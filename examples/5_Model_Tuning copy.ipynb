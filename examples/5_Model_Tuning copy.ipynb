{
 "cells": [
  {
   "cell_type": "code",
   "execution_count": 5,
   "metadata": {},
   "outputs": [
    {
     "name": "stdout",
     "output_type": "stream",
     "text": [
      "Point-v2\n"
     ]
    },
    {
     "ename": "NameNotFound",
     "evalue": "Environment Point doesn't exist. ",
     "output_type": "error",
     "traceback": [
      "\u001b[0;31m---------------------------------------------------------------------------\u001b[0m",
      "\u001b[0;31mNameNotFound\u001b[0m                              Traceback (most recent call last)",
      "\u001b[1;32m/home/baoyu/baoyul2/autompc/examples/5_Model_Tuning copy.ipynb Cell 4\u001b[0m in \u001b[0;36m<cell line: 17>\u001b[0;34m()\u001b[0m\n\u001b[1;32m     <a href='vscode-notebook-cell:/home/baoyu/baoyul2/autompc/examples/5_Model_Tuning%20copy.ipynb#W3sZmlsZQ%3D%3D?line=14'>15</a>\u001b[0m gym_names \u001b[39m=\u001b[39m [\u001b[39m\"\u001b[39m\u001b[39mPoint-v2\u001b[39m\u001b[39m\"\u001b[39m]\n\u001b[1;32m     <a href='vscode-notebook-cell:/home/baoyu/baoyul2/autompc/examples/5_Model_Tuning%20copy.ipynb#W3sZmlsZQ%3D%3D?line=16'>17</a>\u001b[0m \u001b[39mfor\u001b[39;00m name \u001b[39min\u001b[39;00m gym_names:\n\u001b[0;32m---> <a href='vscode-notebook-cell:/home/baoyu/baoyul2/autompc/examples/5_Model_Tuning%20copy.ipynb#W3sZmlsZQ%3D%3D?line=17'>18</a>\u001b[0m     benchmark \u001b[39m=\u001b[39m GymBenchmark(name\u001b[39m=\u001b[39;49mname)\n\u001b[1;32m     <a href='vscode-notebook-cell:/home/baoyu/baoyul2/autompc/examples/5_Model_Tuning%20copy.ipynb#W3sZmlsZQ%3D%3D?line=18'>19</a>\u001b[0m     system \u001b[39m=\u001b[39m benchmark\u001b[39m.\u001b[39msystem\n\u001b[1;32m     <a href='vscode-notebook-cell:/home/baoyu/baoyul2/autompc/examples/5_Model_Tuning%20copy.ipynb#W3sZmlsZQ%3D%3D?line=19'>20</a>\u001b[0m     trajs \u001b[39m=\u001b[39m benchmark\u001b[39m.\u001b[39mgen_trajs(seed\u001b[39m=\u001b[39m\u001b[39m100\u001b[39m, n_trajs\u001b[39m=\u001b[39m\u001b[39m100\u001b[39m, traj_len\u001b[39m=\u001b[39m\u001b[39m200\u001b[39m)\n",
      "File \u001b[0;32m~/baoyul2/autompc/autompc/benchmarks/meta_benchmarks/gym_mujoco.py:122\u001b[0m, in \u001b[0;36mGymBenchmark.__init__\u001b[0;34m(self, name, data_gen_method)\u001b[0m\n\u001b[1;32m    119\u001b[0m \u001b[39mimport\u001b[39;00m \u001b[39mgym\u001b[39;00m\u001b[39m,\u001b[39m \u001b[39mmujoco_py\u001b[39;00m\n\u001b[1;32m    120\u001b[0m \u001b[39mprint\u001b[39m(name)\n\u001b[0;32m--> 122\u001b[0m env \u001b[39m=\u001b[39m gym\u001b[39m.\u001b[39;49mmake(name)\n\u001b[1;32m    123\u001b[0m \u001b[39mself\u001b[39m\u001b[39m.\u001b[39menv \u001b[39m=\u001b[39m env\n\u001b[1;32m    124\u001b[0m state \u001b[39m=\u001b[39m env\u001b[39m.\u001b[39msim\u001b[39m.\u001b[39mget_state()\n",
      "File \u001b[0;32m~/anaconda3/envs/autompc/lib/python3.9/site-packages/gym/envs/registration.py:607\u001b[0m, in \u001b[0;36mmake\u001b[0;34m(id, max_episode_steps, autoreset, new_step_api, disable_env_checker, **kwargs)\u001b[0m\n\u001b[1;32m    601\u001b[0m         logger\u001b[39m.\u001b[39mwarn(\n\u001b[1;32m    602\u001b[0m             \u001b[39mf\u001b[39m\u001b[39m\"\u001b[39m\u001b[39mUsing the latest versioned environment `\u001b[39m\u001b[39m{\u001b[39;00mnew_env_id\u001b[39m}\u001b[39;00m\u001b[39m` \u001b[39m\u001b[39m\"\u001b[39m\n\u001b[1;32m    603\u001b[0m             \u001b[39mf\u001b[39m\u001b[39m\"\u001b[39m\u001b[39minstead of the unversioned environment `\u001b[39m\u001b[39m{\u001b[39;00m\u001b[39mid\u001b[39m\u001b[39m}\u001b[39;00m\u001b[39m`.\u001b[39m\u001b[39m\"\u001b[39m\n\u001b[1;32m    604\u001b[0m         )\n\u001b[1;32m    606\u001b[0m     \u001b[39mif\u001b[39;00m spec_ \u001b[39mis\u001b[39;00m \u001b[39mNone\u001b[39;00m:\n\u001b[0;32m--> 607\u001b[0m         _check_version_exists(ns, name, version)\n\u001b[1;32m    608\u001b[0m         \u001b[39mraise\u001b[39;00m error\u001b[39m.\u001b[39mError(\u001b[39mf\u001b[39m\u001b[39m\"\u001b[39m\u001b[39mNo registered env with id: \u001b[39m\u001b[39m{\u001b[39;00m\u001b[39mid\u001b[39m\u001b[39m}\u001b[39;00m\u001b[39m\"\u001b[39m)\n\u001b[1;32m    610\u001b[0m _kwargs \u001b[39m=\u001b[39m spec_\u001b[39m.\u001b[39mkwargs\u001b[39m.\u001b[39mcopy()\n",
      "File \u001b[0;32m~/anaconda3/envs/autompc/lib/python3.9/site-packages/gym/envs/registration.py:234\u001b[0m, in \u001b[0;36m_check_version_exists\u001b[0;34m(ns, name, version)\u001b[0m\n\u001b[1;32m    231\u001b[0m \u001b[39mif\u001b[39;00m get_env_id(ns, name, version) \u001b[39min\u001b[39;00m registry:\n\u001b[1;32m    232\u001b[0m     \u001b[39mreturn\u001b[39;00m\n\u001b[0;32m--> 234\u001b[0m _check_name_exists(ns, name)\n\u001b[1;32m    235\u001b[0m \u001b[39mif\u001b[39;00m version \u001b[39mis\u001b[39;00m \u001b[39mNone\u001b[39;00m:\n\u001b[1;32m    236\u001b[0m     \u001b[39mreturn\u001b[39;00m\n",
      "File \u001b[0;32m~/anaconda3/envs/autompc/lib/python3.9/site-packages/gym/envs/registration.py:212\u001b[0m, in \u001b[0;36m_check_name_exists\u001b[0;34m(ns, name)\u001b[0m\n\u001b[1;32m    209\u001b[0m namespace_msg \u001b[39m=\u001b[39m \u001b[39mf\u001b[39m\u001b[39m\"\u001b[39m\u001b[39m in namespace \u001b[39m\u001b[39m{\u001b[39;00mns\u001b[39m}\u001b[39;00m\u001b[39m\"\u001b[39m \u001b[39mif\u001b[39;00m ns \u001b[39melse\u001b[39;00m \u001b[39m\"\u001b[39m\u001b[39m\"\u001b[39m\n\u001b[1;32m    210\u001b[0m suggestion_msg \u001b[39m=\u001b[39m \u001b[39mf\u001b[39m\u001b[39m\"\u001b[39m\u001b[39mDid you mean: `\u001b[39m\u001b[39m{\u001b[39;00msuggestion[\u001b[39m0\u001b[39m]\u001b[39m}\u001b[39;00m\u001b[39m`?\u001b[39m\u001b[39m\"\u001b[39m \u001b[39mif\u001b[39;00m suggestion \u001b[39melse\u001b[39;00m \u001b[39m\"\u001b[39m\u001b[39m\"\u001b[39m\n\u001b[0;32m--> 212\u001b[0m \u001b[39mraise\u001b[39;00m error\u001b[39m.\u001b[39mNameNotFound(\n\u001b[1;32m    213\u001b[0m     \u001b[39mf\u001b[39m\u001b[39m\"\u001b[39m\u001b[39mEnvironment \u001b[39m\u001b[39m{\u001b[39;00mname\u001b[39m}\u001b[39;00m\u001b[39m doesn\u001b[39m\u001b[39m'\u001b[39m\u001b[39mt exist\u001b[39m\u001b[39m{\u001b[39;00mnamespace_msg\u001b[39m}\u001b[39;00m\u001b[39m. \u001b[39m\u001b[39m{\u001b[39;00msuggestion_msg\u001b[39m}\u001b[39;00m\u001b[39m\"\u001b[39m\n\u001b[1;32m    214\u001b[0m )\n",
      "\u001b[0;31mNameNotFound\u001b[0m: Environment Point doesn't exist. "
     ]
    }
   ],
   "source": [
    "# Open AI gym mujoco v2\n",
    "import os\n",
    "# os.chdir('/home/baoyu/baoyul2/autompc')\n",
    "import autompc as ampc\n",
    "import numpy as np\n",
    "import pickle\n",
    "import os\n",
    "\n",
    "from autompc.benchmarks.meta_benchmarks.gym_mujoco import GymBenchmark\n",
    "\n",
    "PATH = '/home/baoyu/baoyul2/autompc/autompc/model_metalearning/gym_mujoco_data'\n",
    "\n",
    "gym_names = [\"HalfCheetah-v2\", \"Hopper-v2\", \"Walker2d-v2\", \"Swimmer-v2\", \"InvertedPendulum-v2\", \n",
    "              \"Reacher-v2\", \"Pusher-v2\", \"InvertedDoublePendulum-v2\", \n",
    "              \"Ant-v2\", \"Humanoid-v2\", \"HumanoidStandup-v2\"]\n",
    "\n",
    "for name in gym_names:\n",
    "    benchmark = GymBenchmark(name=name)\n",
    "    system = benchmark.system\n",
    "    trajs = benchmark.gen_trajs(seed=100, n_trajs=100, traj_len=200)\n",
    "    \n",
    "    # Save data\n",
    "    data_name = name + '.pkl'\n",
    "    output_file_name = os.path.join(PATH, data_name)\n",
    "    print(\"Dumping to \", output_file_name)\n",
    "    data = {'system': system, 'trajs': trajs}\n",
    "    with open(output_file_name, 'wb') as fh:\n",
    "        pickle.dump(data, fh)"
   ]
  },
  {
   "cell_type": "code",
   "execution_count": 1,
   "metadata": {},
   "outputs": [
    {
     "name": "stdout",
     "output_type": "stream",
     "text": [
      "Loading AutoMPC...\n"
     ]
    },
    {
     "name": "stderr",
     "output_type": "stream",
     "text": [
      "/home/baoyu/anaconda3/envs/autompc/lib/python3.9/site-packages/tqdm/auto.py:22: TqdmWarning: IProgress not found. Please update jupyter and ipywidgets. See https://ipywidgets.readthedocs.io/en/stable/user_install.html\n",
      "  from .autonotebook import tqdm as notebook_tqdm\n"
     ]
    },
    {
     "name": "stdout",
     "output_type": "stream",
     "text": [
      "Finished loading AutoMPC\n",
      "HopperBigTorso-v2\n"
     ]
    },
    {
     "name": "stderr",
     "output_type": "stream",
     "text": [
      "/home/baoyu/anaconda3/envs/autompc/lib/python3.9/site-packages/gym/envs/mujoco/mujoco_env.py:237: UserWarning: \u001b[33mWARN: This version of the mujoco environments depends on the mujoco-py bindings, which are no longer maintained and may stop working. Please upgrade to the v4 versions of the environments (which depend on the mujoco python bindings instead), unless you are trying to precisely replicate previous works).\u001b[0m\n",
      "  logger.warn(\n",
      "/home/baoyu/anaconda3/envs/autompc/lib/python3.9/site-packages/gym/core.py:317: DeprecationWarning: \u001b[33mWARN: Initializing wrapper in old step API which returns one bool instead of two. It is recommended to set `new_step_api=True` to use new step API. This will be the default behaviour in future.\u001b[0m\n",
      "  deprecation(\n",
      "/home/baoyu/anaconda3/envs/autompc/lib/python3.9/site-packages/gym/wrappers/step_api_compatibility.py:39: DeprecationWarning: \u001b[33mWARN: Initializing environment in old step API which returns one bool instead of two. It is recommended to set `new_step_api=True` to use new step API. This will be the default behaviour in future.\u001b[0m\n",
      "  deprecation(\n",
      "/home/baoyu/anaconda3/envs/autompc/lib/python3.9/site-packages/gym/core.py:256: DeprecationWarning: \u001b[33mWARN: Function `env.seed(seed)` is marked as deprecated and will be removed in the future. Please use `env.reset(seed=seed)` instead.\u001b[0m\n",
      "  deprecation(\n"
     ]
    },
    {
     "name": "stdout",
     "output_type": "stream",
     "text": [
      "Dumping to  /home/baoyu/baoyul2/autompc/autompc/model_metalearning/gym_mujoco_data/HopperBigTorso-v2.pkl\n",
      "HopperBigThigh-v2\n",
      "Dumping to  /home/baoyu/baoyul2/autompc/autompc/model_metalearning/gym_mujoco_data/HopperBigThigh-v2.pkl\n",
      "HopperBigLeg-v2\n",
      "Dumping to  /home/baoyu/baoyul2/autompc/autompc/model_metalearning/gym_mujoco_data/HopperBigLeg-v2.pkl\n",
      "HopperBigFoot-v2\n",
      "Dumping to  /home/baoyu/baoyul2/autompc/autompc/model_metalearning/gym_mujoco_data/HopperBigFoot-v2.pkl\n",
      "HopperSmallTorso-v2\n",
      "Dumping to  /home/baoyu/baoyul2/autompc/autompc/model_metalearning/gym_mujoco_data/HopperSmallTorso-v2.pkl\n",
      "HopperSmallThigh-v2\n",
      "Dumping to  /home/baoyu/baoyul2/autompc/autompc/model_metalearning/gym_mujoco_data/HopperSmallThigh-v2.pkl\n",
      "HopperSmallLeg-v2\n",
      "Dumping to  /home/baoyu/baoyul2/autompc/autompc/model_metalearning/gym_mujoco_data/HopperSmallLeg-v2.pkl\n",
      "HopperSmallFoot-v2\n",
      "Dumping to  /home/baoyu/baoyul2/autompc/autompc/model_metalearning/gym_mujoco_data/HopperSmallFoot-v2.pkl\n"
     ]
    }
   ],
   "source": [
    "# Gym Extensions Benchmark\n",
    "import os\n",
    "# os.chdir('/home/baoyu/baoyul2/autompc')\n",
    "import autompc as ampc\n",
    "import numpy as np\n",
    "import pickle\n",
    "import os\n",
    "\n",
    "from autompc.benchmarks.meta_benchmarks.gym_mujoco import GymExtensionBenchmark\n",
    "\n",
    "PATH = '/home/baoyu/baoyul2/autompc/autompc/model_metalearning/gym_mujoco_data'\n",
    "\n",
    "hopper_names = [\"HopperBigTorso-v2\", \"HopperBigThigh-v2\", \"HopperBigLeg-v2\", \"HopperBigFoot-v2\",\n",
    "                \"HopperSmallTorso-v2\", \"HopperSmallThigh-v2\", \"HopperSmallLeg-v2\", \"HopperSmallFoot-v2\"]\n",
    "\n",
    "for name in hopper_names:\n",
    "    benchmark = GymExtensionBenchmark(name=name)\n",
    "    system = benchmark.system\n",
    "    trajs = benchmark.gen_trajs(seed=100, n_trajs=100, traj_len=200)\n",
    "    \n",
    "    # Save data\n",
    "    data_name = name + '.pkl'\n",
    "    output_file_name = os.path.join(PATH, data_name)\n",
    "    print(\"Dumping to \", output_file_name)\n",
    "    data = {'system': system, 'trajs': trajs}\n",
    "    with open(output_file_name, 'wb') as fh:\n",
    "        pickle.dump(data, fh)\n"
   ]
  },
  {
   "cell_type": "code",
   "execution_count": 4,
   "metadata": {},
   "outputs": [
    {
     "name": "stdout",
     "output_type": "stream",
     "text": [
      "InvertedDoublePendulum-v2\n",
      "Dumping to  /home/baoyu/baoyul2/autompc/autompc/model_metalearning/meta_data/InvertedDoublePendulumSmall-v2.pkl\n"
     ]
    },
    {
     "name": "stderr",
     "output_type": "stream",
     "text": [
      "/home/baoyu/anaconda3/envs/autompc/lib/python3.9/site-packages/gym/envs/registration.py:593: UserWarning: \u001b[33mWARN: The environment InvertedDoublePendulum-v2 is out of date. You should consider upgrading to version `v4`.\u001b[0m\n",
      "  logger.warn(\n"
     ]
    }
   ],
   "source": [
    "# Open AI gym small\n",
    "import os\n",
    "os.chdir('/home/baoyu/baoyul2/autompc')\n",
    "import autompc as ampc\n",
    "import numpy as np\n",
    "import pickle\n",
    "import os\n",
    "\n",
    "from autompc.benchmarks.meta_benchmarks.gym_mujoco import GymBenchmark, GymExtensionBenchmark\n",
    "\n",
    "PATH = '/home/baoyu/baoyul2/autompc/autompc/model_metalearning/meta_data'\n",
    "\n",
    "gym_names = [\"HalfCheetah-v2\", \"Hopper-v2\", \"Walker2d-v2\", \"Swimmer-v2\", \"InvertedPendulum-v2\", \n",
    "              \"Reacher-v2\", \"Pusher-v2\", \"InvertedDoublePendulum-v2\", \n",
    "              \"Ant-v2\", \"Humanoid-v2\"]\n",
    "gym_small_names = [\"HalfCheetahSmall-v2\", \"ReacherSmall-v2\", \"SwimmerSmall-v2\"] # n_trajs=10, traj_len=20\n",
    "gym_extensions_names = [\"HopperGravityThreeQuarters-v2\", \"Walker2dGravityOneAndHalf-v2\", \"HalfCheetahGravityOneAndQuarter-v2\",\n",
    "                        \"HalfCheetahBigThigh-v2\", \"HopperSmallLeg-v2\", \"Walker2dSmallTorso-v2\", \"PusherMovingGoal-v2\"]\n",
    "\n",
    "test_small_names = [\"HopperSmall-v2\", \"Walker2dSmall-v2\", \"InvertedPendulumSmall-v2\", \"AntSmall-v2\", \"InvertedDoublePendulumSmall-v2\"]\n",
    "\n",
    "# for name in gym_extensions_names:\n",
    "name = test_small_names[-1]\n",
    "benchmark = GymBenchmark(name=\"InvertedDoublePendulum-v2\")\n",
    "system = benchmark.system\n",
    "trajs = benchmark.gen_trajs(seed=100, n_trajs=10, traj_len=20)\n",
    "\n",
    "# Save data\n",
    "data_name = name + '.pkl'\n",
    "output_file_name = os.path.join(PATH, data_name)\n",
    "print(\"Dumping to \", output_file_name)\n",
    "data = {'system': system, 'trajs': trajs}\n",
    "with open(output_file_name, 'wb') as fh:\n",
    "    pickle.dump(data, fh)"
   ]
  },
  {
   "cell_type": "code",
   "execution_count": 3,
   "metadata": {},
   "outputs": [
    {
     "name": "stdout",
     "output_type": "stream",
     "text": [
      "X (19900, 18); U (19900, 6); XU (19900, 24)\n"
     ]
    }
   ],
   "source": [
    "X = np.concatenate([traj.obs[:-1,:] for traj in trajs])\n",
    "U = np.concatenate([traj.ctrls[:-1,:] for traj in trajs])\n",
    "XU = np.concatenate((X, U), axis = 1) # stack X and U together\n",
    "print(\"X {}; U {}; XU {}\".format(X.shape, U.shape, XU.shape))\n",
    "\n",
    "def transform_input(xu_means, xu_std, XU):\n",
    "    XUt = []\n",
    "    for i in range(XU.shape[1]):\n",
    "        if xu_std[i] == 0:\n",
    "            print(i)\n",
    "            \n",
    "            XUt.append(XU[:,i] - xu_means[i])\n",
    "        else:\n",
    "            XUt.append((XU[:,i] - xu_means[i]) / xu_std[i])\n",
    "    return np.vstack(XUt).T\n",
    "\n",
    "xu_means = np.mean(XU, axis=0)\n",
    "xu_std = np.std(XU, axis=0)\n",
    "print(len(xu_std))\n",
    "print(xu_std)"
   ]
  },
  {
   "cell_type": "markdown",
   "metadata": {},
   "source": [
    "## Auto-Tuning"
   ]
  },
  {
   "cell_type": "markdown",
   "metadata": {},
   "source": [
    "By default, AutoMPC's `ModelTuner` will auto-select from all available models to fit the trajectories as best as possible. The tuner by default will run for 10 iterations, but for real problems you will want to run for many, many more iterations (100s)."
   ]
  },
  {
   "cell_type": "code",
   "execution_count": 1,
   "metadata": {},
   "outputs": [
    {
     "name": "stdout",
     "output_type": "stream",
     "text": [
      "Loading AutoMPC...\n",
      "Finished loading AutoMPC\n",
      "HopperSmall-v2\n"
     ]
    },
    {
     "name": "stderr",
     "output_type": "stream",
     "text": [
      "/home/baoyu/anaconda3/envs/autompc/lib/python3.9/site-packages/tqdm/auto.py:22: TqdmWarning: IProgress not found. Please update jupyter and ipywidgets. See https://ipywidgets.readthedocs.io/en/stable/user_install.html\n",
      "  from .autonotebook import tqdm as notebook_tqdm\n"
     ]
    }
   ],
   "source": [
    "import imp\n",
    "import os\n",
    "os.chdir('/home/baoyu/baoyul2/autompc')\n",
    "import autompc as ampc\n",
    "import numpy as np\n",
    "import pickle\n",
    "import os\n",
    "\n",
    "[\"HalfCheetahGravityHalf-v2\", \"HalfCheetahGravityThreeQuarters-v2\", \"HalfCheetahGravityOneAndQuarter-v2\", \"HalfCheetahGravityOneAndHalf-v2\"]\n",
    "PATH = '/home/baoyu/baoyul2/autompc/autompc/model_metalearning/meta_data'\n",
    "# name = \"HalfCheetah-v2\"\n",
    "# name = \"HalfCheetahGravityOneAndHalf-v2\"\n",
    "# name = \"HalfCheetahSmall-v2\"\n",
    "# name = \"SwimmerSmall-v2\"\n",
    "\n",
    "# Small test\n",
    "test_small_names = [\"HopperSmall-v2\", \"Walker2dSmall-v2\", \"InvertedPendulumSmall-v2\", \"AntSmall-v2\", \"InvertedDoublePendulumSmall-v2\"]\n",
    "# name = \"Walker2dSmall-v2\"\n",
    "# name = \"HopperSmall-v2\"\n",
    "name = test_small_names[0]\n",
    "print(name)\n",
    "data_name = name + '.pkl'\n",
    "\n",
    "input_file_name = os.path.join(PATH, data_name)\n",
    "with open(input_file_name, 'rb') as fh:\n",
    "    data = pickle.load(fh)\n",
    "    system = data['system']\n",
    "    trajs = data['trajs']\n"
   ]
  },
  {
   "cell_type": "code",
   "execution_count": 4,
   "metadata": {},
   "outputs": [
    {
     "name": "stderr",
     "output_type": "stream",
     "text": [
      "Adding unsupported scenario options: {'save_results_instantly': True}\n"
     ]
    },
    {
     "name": "stdout",
     "output_type": "stream",
     "text": [
      "use_cuda=True\n",
      "torch.cuda.is_available()=True\n",
      "self._device=device(type='cuda')\n",
      "Cuda is used for GPytorch\n",
      "Foo\n",
      "Selecting from models MLP,ARX,Koopman,SINDy,ApproximateGPModel\n",
      "Loading AutoMPC...\n",
      "Finished loading AutoMPC\n",
      "Loading AutoMPC...\n",
      "Finished loading AutoMPC\n",
      "Loading AutoMPC...\n",
      "Finished loading AutoMPC\n",
      "Loading AutoMPC...\n",
      "Finished loading AutoMPC\n",
      "Loading AutoMPC...\n",
      "Finished loading AutoMPC\n",
      "Loading AutoMPC...\n",
      "Finished loading AutoMPC\n",
      "Loading AutoMPC...\n",
      "Finished loading AutoMPC\n",
      "Loading AutoMPC...\n",
      "Finished loading AutoMPC\n",
      "Loading AutoMPC...\n",
      "Finished loading AutoMPC\n",
      "Loading AutoMPC...\n",
      "Finished loading AutoMPC\n",
      "Loading AutoMPC...\n",
      "Finished loading AutoMPC\n",
      "Loading AutoMPC...\n",
      "Finished loading AutoMPC\n",
      "Loading AutoMPC...\n",
      "Finished loading AutoMPC\n",
      "Loading AutoMPC...\n",
      "Finished loading AutoMPC\n",
      "Loading AutoMPC...\n",
      "Finished loading AutoMPC\n",
      "Loading AutoMPC...\n",
      "Finished loading AutoMPC\n",
      "Loading AutoMPC...\n",
      "Finished loading AutoMPC\n",
      "Loading AutoMPC...\n",
      "Finished loading AutoMPC\n",
      "Loading AutoMPC...\n",
      "Finished loading AutoMPC\n",
      "Loading AutoMPC...\n",
      "Finished loading AutoMPC\n",
      "Loading AutoMPC...\n",
      "Finished loading AutoMPC\n",
      "Loading AutoMPC...\n",
      "Finished loading AutoMPC\n",
      "Loading AutoMPC...\n",
      "Finished loading AutoMPC\n",
      "Loading AutoMPC...\n",
      "Finished loading AutoMPC\n",
      "Loading AutoMPC...\n",
      "Finished loading AutoMPC\n",
      "Loading AutoMPC...\n",
      "Finished loading AutoMPC\n",
      "Loading AutoMPC...\n",
      "Finished loading AutoMPC\n",
      "Loading AutoMPC...\n",
      "Finished loading AutoMPC\n",
      "Loading AutoMPC...\n",
      "Finished loading AutoMPC\n",
      "Loading AutoMPC...\n",
      "Finished loading AutoMPC\n",
      "Loading AutoMPC...\n",
      "Finished loading AutoMPC\n",
      "Loading AutoMPC...\n",
      "Finished loading AutoMPC\n",
      "Loading AutoMPC...\n",
      "Finished loading AutoMPC\n",
      "Loading AutoMPC...\n",
      "Finished loading AutoMPC\n",
      "Loading AutoMPC...\n",
      "Finished loading AutoMPC\n",
      "Loading AutoMPC...\n",
      "Finished loading AutoMPC\n",
      "Loading AutoMPC...\n",
      "Finished loading AutoMPC\n",
      "Loading AutoMPC...\n",
      "Finished loading AutoMPC\n",
      "Loading AutoMPC...\n",
      "Finished loading AutoMPC\n",
      "Loading AutoMPC...\n",
      "Finished loading AutoMPC\n",
      "Loading AutoMPC...\n",
      "Finished loading AutoMPC\n",
      "Loading AutoMPC...\n",
      "Finished loading AutoMPC\n",
      "Loading AutoMPC...\n",
      "Finished loading AutoMPC\n",
      "Loading AutoMPC...\n",
      "Finished loading AutoMPC\n",
      "Loading AutoMPC...\n",
      "Finished loading AutoMPC\n",
      "Loading AutoMPC...\n",
      "Finished loading AutoMPC\n",
      "Loading AutoMPC...\n",
      "Finished loading AutoMPC\n",
      "Loading AutoMPC...\n",
      "Finished loading AutoMPC\n",
      "Loading AutoMPC...\n",
      "Finished loading AutoMPC\n",
      "Loading AutoMPC...\n",
      "Finished loading AutoMPC\n",
      "Loading AutoMPC...\n",
      "Finished loading AutoMPC\n",
      "Loading AutoMPC...\n",
      "Finished loading AutoMPC\n",
      "Loading AutoMPC...\n",
      "Finished loading AutoMPC\n",
      "Loading AutoMPC...\n",
      "Finished loading AutoMPC\n",
      "Loading AutoMPC...\n",
      "Finished loading AutoMPC\n",
      "Loading AutoMPC...\n",
      "Finished loading AutoMPC\n",
      "Loading AutoMPC...\n",
      "Finished loading AutoMPC\n",
      "Loading AutoMPC...\n",
      "Finished loading AutoMPC\n",
      "Loading AutoMPC...\n",
      "Finished loading AutoMPC\n",
      "Loading AutoMPC...\n",
      "Finished loading AutoMPC\n",
      "Loading AutoMPC...\n",
      "Finished loading AutoMPC\n",
      "Loading AutoMPC...\n",
      "Finished loading AutoMPC\n",
      "Loading AutoMPC...\n",
      "Finished loading AutoMPC\n",
      "Loading AutoMPC...\n",
      "Finished loading AutoMPC\n"
     ]
    },
    {
     "name": "stderr",
     "output_type": "stream",
     "text": [
      "Process SpawnProcess-110:\n",
      "Traceback (most recent call last):\n",
      "  File \"/home/baoyu/anaconda3/envs/autompc/lib/python3.9/multiprocessing/process.py\", line 315, in _bootstrap\n",
      "    self.run()\n",
      "  File \"/home/baoyu/anaconda3/envs/autompc/lib/python3.9/multiprocessing/process.py\", line 108, in run\n",
      "    self._target(*self._args, **self._kwargs)\n",
      "  File \"/home/baoyu/baoyul2/autompc/autompc/tuning/smac_runner.py\", line 198, in run_mp\n",
      "    raise e\n",
      "  File \"/home/baoyu/baoyul2/autompc/autompc/tuning/smac_runner.py\", line 195, in run_mp\n",
      "    result = cfg_evaluator(cfg)\n",
      "  File \"/home/baoyu/baoyul2/autompc/autompc/tuning/model_tuner.py\", line 244, in __call__\n",
      "    value = self.evaluator(self.model)\n",
      "  File \"/home/baoyu/baoyul2/autompc/autompc/tuning/model_evaluator.py\", line 159, in __call__\n",
      "    m.train(train)\n",
      "  File \"/home/baoyu/baoyul2/autompc/autompc/sysid/autoselect.py\", line 68, in train\n",
      "    self.selected_model.train(trajs)\n",
      "  File \"/home/baoyu/baoyul2/autompc/autompc/sysid/koopman.py\", line 204, in train\n",
      "    A, _, _, _, B, _ = stabilize_discrete(X, U, Y, time_budget=self.budget)\n",
      "  File \"/home/baoyu/baoyul2/autompc/autompc/sysid/stable_koopman.py\", line 115, in stabilize_discrete\n",
      "    error_next,_,_,_,_ = gradients(Xs,Xu, Y, Sn, Un, Bn, Bn_con)\n",
      "  File \"/home/baoyu/baoyul2/autompc/autompc/sysid/stable_koopman.py\", line 22, in gradients\n",
      "    Sinv = np.linalg.inv(S)\n",
      "  File \"<__array_function__ internals>\", line 180, in inv\n",
      "  File \"/home/baoyu/anaconda3/envs/autompc/lib/python3.9/site-packages/numpy/linalg/linalg.py\", line 545, in inv\n",
      "    ainv = _umath_linalg.inv(a, signature=signature, extobj=extobj)\n",
      "  File \"/home/baoyu/anaconda3/envs/autompc/lib/python3.9/site-packages/numpy/linalg/linalg.py\", line 88, in _raise_linalgerror_singular\n",
      "    raise LinAlgError(\"Singular matrix\")\n",
      "numpy.linalg.LinAlgError: Singular matrix\n",
      "Target Algorithm returned NaN or inf as quality. Algorithm run is treated as CRASHED, cost is set to 2147483647.0 for quality scenarios. (Change value through \"cost_for_crash\"-option.)\n"
     ]
    },
    {
     "name": "stdout",
     "output_type": "stream",
     "text": [
      "CfgRunner: Exception during evaluation\n",
      "Exit code:  1\n",
      "Loading AutoMPC...\n",
      "Finished loading AutoMPC\n",
      "Loading AutoMPC...\n",
      "Finished loading AutoMPC\n",
      "Loading AutoMPC...\n",
      "Finished loading AutoMPC\n",
      "Loading AutoMPC...\n",
      "Finished loading AutoMPC\n",
      "Loading AutoMPC...\n",
      "Finished loading AutoMPC\n",
      "Loading AutoMPC...\n",
      "Finished loading AutoMPC\n",
      "Loading AutoMPC...\n",
      "Finished loading AutoMPC\n",
      "Loading AutoMPC...\n",
      "Finished loading AutoMPC\n",
      "Loading AutoMPC...\n",
      "Finished loading AutoMPC\n",
      "Loading AutoMPC...\n",
      "Finished loading AutoMPC\n",
      "Loading AutoMPC...\n",
      "Finished loading AutoMPC\n",
      "Loading AutoMPC...\n",
      "Finished loading AutoMPC\n",
      "Loading AutoMPC...\n",
      "Finished loading AutoMPC\n",
      "Loading AutoMPC...\n",
      "Finished loading AutoMPC\n",
      "Loading AutoMPC...\n",
      "Finished loading AutoMPC\n",
      "Loading AutoMPC...\n",
      "Finished loading AutoMPC\n"
     ]
    },
    {
     "name": "stderr",
     "output_type": "stream",
     "text": [
      "Process SpawnProcess-126:\n",
      "Traceback (most recent call last):\n",
      "  File \"/home/baoyu/anaconda3/envs/autompc/lib/python3.9/multiprocessing/process.py\", line 315, in _bootstrap\n",
      "    self.run()\n",
      "  File \"/home/baoyu/anaconda3/envs/autompc/lib/python3.9/multiprocessing/process.py\", line 108, in run\n",
      "    self._target(*self._args, **self._kwargs)\n",
      "  File \"/home/baoyu/baoyul2/autompc/autompc/tuning/smac_runner.py\", line 198, in run_mp\n",
      "    raise e\n",
      "  File \"/home/baoyu/baoyul2/autompc/autompc/tuning/smac_runner.py\", line 195, in run_mp\n",
      "    result = cfg_evaluator(cfg)\n",
      "  File \"/home/baoyu/baoyul2/autompc/autompc/tuning/model_tuner.py\", line 244, in __call__\n",
      "    value = self.evaluator(self.model)\n",
      "  File \"/home/baoyu/baoyul2/autompc/autompc/tuning/model_evaluator.py\", line 159, in __call__\n",
      "    m.train(train)\n",
      "  File \"/home/baoyu/baoyul2/autompc/autompc/sysid/autoselect.py\", line 68, in train\n",
      "    self.selected_model.train(trajs)\n",
      "  File \"/home/baoyu/baoyul2/autompc/autompc/sysid/arx.py\", line 160, in train\n",
      "    B[2*n : 2*n + l, :] = np.eye(l)\n",
      "ValueError: could not broadcast input array from shape (3,3) into shape (0,3)\n",
      "Target Algorithm returned NaN or inf as quality. Algorithm run is treated as CRASHED, cost is set to 2147483647.0 for quality scenarios. (Change value through \"cost_for_crash\"-option.)\n"
     ]
    },
    {
     "name": "stdout",
     "output_type": "stream",
     "text": [
      "CfgRunner: Exception during evaluation\n",
      "Exit code:  1\n",
      "Loading AutoMPC...\n",
      "Finished loading AutoMPC\n",
      "Loading AutoMPC...\n",
      "Finished loading AutoMPC\n",
      "Loading AutoMPC...\n",
      "Finished loading AutoMPC\n",
      "Loading AutoMPC...\n",
      "Finished loading AutoMPC\n",
      "Loading AutoMPC...\n",
      "Finished loading AutoMPC\n",
      "Loading AutoMPC...\n",
      "Finished loading AutoMPC\n",
      "Loading AutoMPC...\n",
      "Finished loading AutoMPC\n",
      "Loading AutoMPC...\n",
      "Finished loading AutoMPC\n",
      "Loading AutoMPC...\n",
      "Finished loading AutoMPC\n",
      "Loading AutoMPC...\n",
      "Finished loading AutoMPC\n",
      "Loading AutoMPC...\n",
      "Finished loading AutoMPC\n",
      "Loading AutoMPC...\n",
      "Finished loading AutoMPC\n",
      "Loading AutoMPC...\n",
      "Finished loading AutoMPC\n",
      "Loading AutoMPC...\n",
      "Finished loading AutoMPC\n",
      "Loading AutoMPC...\n",
      "Finished loading AutoMPC\n",
      "Loading AutoMPC...\n",
      "Finished loading AutoMPC\n",
      "Loading AutoMPC...\n",
      "Finished loading AutoMPC\n",
      "Loading AutoMPC...\n",
      "Finished loading AutoMPC\n",
      "Loading AutoMPC...\n",
      "Finished loading AutoMPC\n",
      "Loading AutoMPC...\n",
      "Finished loading AutoMPC\n",
      "Loading AutoMPC...\n",
      "Finished loading AutoMPC\n",
      "Loading AutoMPC...\n",
      "Finished loading AutoMPC\n",
      "Loading AutoMPC...\n",
      "Finished loading AutoMPC\n",
      "Loading AutoMPC...\n",
      "Finished loading AutoMPC\n",
      "Loading AutoMPC...\n",
      "Finished loading AutoMPC\n",
      "Loading AutoMPC...\n",
      "Finished loading AutoMPC\n",
      "Loading AutoMPC...\n",
      "Finished loading AutoMPC\n",
      "Loading AutoMPC...\n",
      "Finished loading AutoMPC\n",
      "Loading AutoMPC...\n",
      "Finished loading AutoMPC\n",
      "Loading AutoMPC...\n",
      "Finished loading AutoMPC\n"
     ]
    },
    {
     "name": "stderr",
     "output_type": "stream",
     "text": [
      "Target Algorithm returned NaN or inf as quality. Algorithm run is treated as CRASHED, cost is set to 2147483647.0 for quality scenarios. (Change value through \"cost_for_crash\"-option.)\n"
     ]
    },
    {
     "name": "stdout",
     "output_type": "stream",
     "text": [
      "CfgRunner: Evaluation timed out\n",
      "Loading AutoMPC...\n",
      "Finished loading AutoMPC\n",
      "Loading AutoMPC...\n",
      "Finished loading AutoMPC\n",
      "Loading AutoMPC...\n",
      "Finished loading AutoMPC\n",
      "Loading AutoMPC...\n",
      "Finished loading AutoMPC\n",
      "Loading AutoMPC...\n",
      "Finished loading AutoMPC\n",
      "Loading AutoMPC...\n",
      "Finished loading AutoMPC\n",
      "Loading AutoMPC...\n",
      "Finished loading AutoMPC\n",
      "Loading AutoMPC...\n",
      "Finished loading AutoMPC\n",
      "Loading AutoMPC...\n",
      "Finished loading AutoMPC\n",
      "Loading AutoMPC...\n",
      "Finished loading AutoMPC\n",
      "Loading AutoMPC...\n",
      "Finished loading AutoMPC\n",
      "Loading AutoMPC...\n",
      "Finished loading AutoMPC\n",
      "Loading AutoMPC...\n",
      "Finished loading AutoMPC\n",
      "Loading AutoMPC...\n",
      "Finished loading AutoMPC\n",
      "Loading AutoMPC...\n",
      "Finished loading AutoMPC\n",
      "Loading AutoMPC...\n",
      "Finished loading AutoMPC\n",
      "Loading AutoMPC...\n",
      "Finished loading AutoMPC\n",
      "Loading AutoMPC...\n",
      "Finished loading AutoMPC\n",
      "Loading AutoMPC...\n",
      "Finished loading AutoMPC\n",
      "Loading AutoMPC...\n",
      "Finished loading AutoMPC\n",
      "Loading AutoMPC...\n",
      "Finished loading AutoMPC\n",
      "Loading AutoMPC...\n",
      "Finished loading AutoMPC\n",
      "Loading AutoMPC...\n",
      "Finished loading AutoMPC\n",
      "Loading AutoMPC...\n",
      "Finished loading AutoMPC\n",
      "Loading AutoMPC...\n",
      "Finished loading AutoMPC\n",
      "Loading AutoMPC...\n",
      "Finished loading AutoMPC\n",
      "Loading AutoMPC...\n",
      "Finished loading AutoMPC\n",
      "Loading AutoMPC...\n",
      "Finished loading AutoMPC\n"
     ]
    },
    {
     "name": "stderr",
     "output_type": "stream",
     "text": [
      "Target Algorithm returned NaN or inf as quality. Algorithm run is treated as CRASHED, cost is set to 2147483647.0 for quality scenarios. (Change value through \"cost_for_crash\"-option.)\n"
     ]
    },
    {
     "name": "stdout",
     "output_type": "stream",
     "text": [
      "CfgRunner: Evaluation timed out\n",
      "Loading AutoMPC...\n",
      "Finished loading AutoMPC\n",
      "Loading AutoMPC...\n",
      "Finished loading AutoMPC\n",
      "Loading AutoMPC...\n",
      "Finished loading AutoMPC\n",
      "Loading AutoMPC...\n",
      "Finished loading AutoMPC\n",
      "Loading AutoMPC...\n",
      "Finished loading AutoMPC\n",
      "Loading AutoMPC...\n",
      "Finished loading AutoMPC\n",
      "Loading AutoMPC...\n",
      "Finished loading AutoMPC\n",
      "Loading AutoMPC...\n",
      "Finished loading AutoMPC\n",
      "Loading AutoMPC...\n",
      "Finished loading AutoMPC\n",
      "Loading AutoMPC...\n",
      "Finished loading AutoMPC\n",
      "Loading AutoMPC...\n",
      "Finished loading AutoMPC\n",
      "Loading AutoMPC...\n",
      "Finished loading AutoMPC\n",
      "Loading AutoMPC...\n",
      "Finished loading AutoMPC\n",
      "Loading AutoMPC...\n",
      "Finished loading AutoMPC\n",
      "Loading AutoMPC...\n",
      "Finished loading AutoMPC\n",
      "Loading AutoMPC...\n",
      "Finished loading AutoMPC\n",
      "Loading AutoMPC...\n",
      "Finished loading AutoMPC\n",
      "Loading AutoMPC...\n",
      "Finished loading AutoMPC\n",
      "Loading AutoMPC...\n",
      "Finished loading AutoMPC\n",
      "Loading AutoMPC...\n",
      "Finished loading AutoMPC\n",
      "Loading AutoMPC...\n",
      "Finished loading AutoMPC\n",
      "Loading AutoMPC...\n",
      "Finished loading AutoMPC\n",
      "Loading AutoMPC...\n",
      "Finished loading AutoMPC\n",
      "Loading AutoMPC...\n",
      "Finished loading AutoMPC\n",
      "Loading AutoMPC...\n",
      "Finished loading AutoMPC\n",
      "Loading AutoMPC...\n",
      "Finished loading AutoMPC\n",
      "Loading AutoMPC...\n",
      "Finished loading AutoMPC\n",
      "Loading AutoMPC...\n",
      "Finished loading AutoMPC\n",
      "Loading AutoMPC...\n",
      "Finished loading AutoMPC\n",
      "Loading AutoMPC...\n",
      "Finished loading AutoMPC\n",
      "Loading AutoMPC...\n",
      "Finished loading AutoMPC\n",
      "Loading AutoMPC...\n",
      "Finished loading AutoMPC\n"
     ]
    },
    {
     "name": "stderr",
     "output_type": "stream",
     "text": [
      "Target Algorithm returned NaN or inf as quality. Algorithm run is treated as CRASHED, cost is set to 2147483647.0 for quality scenarios. (Change value through \"cost_for_crash\"-option.)\n"
     ]
    },
    {
     "name": "stdout",
     "output_type": "stream",
     "text": [
      "CfgRunner: Evaluation timed out\n",
      "Loading AutoMPC...\n",
      "Finished loading AutoMPC\n",
      "Loading AutoMPC...\n",
      "Finished loading AutoMPC\n",
      "Loading AutoMPC...\n",
      "Finished loading AutoMPC\n",
      "Loading AutoMPC...\n",
      "Finished loading AutoMPC\n",
      "Loading AutoMPC...\n",
      "Finished loading AutoMPC\n",
      "Loading AutoMPC...\n",
      "Finished loading AutoMPC\n",
      "Loading AutoMPC...\n",
      "Finished loading AutoMPC\n"
     ]
    },
    {
     "name": "stderr",
     "output_type": "stream",
     "text": [
      "Target Algorithm returned NaN or inf as quality. Algorithm run is treated as CRASHED, cost is set to 2147483647.0 for quality scenarios. (Change value through \"cost_for_crash\"-option.)\n"
     ]
    },
    {
     "name": "stdout",
     "output_type": "stream",
     "text": [
      "CfgRunner: Evaluation timed out\n",
      "Loading AutoMPC...\n",
      "Finished loading AutoMPC\n",
      "Loading AutoMPC...\n",
      "Finished loading AutoMPC\n",
      "Loading AutoMPC...\n",
      "Finished loading AutoMPC\n",
      "Loading AutoMPC...\n",
      "Finished loading AutoMPC\n",
      "Loading AutoMPC...\n",
      "Finished loading AutoMPC\n",
      "Loading AutoMPC...\n",
      "Finished loading AutoMPC\n",
      "Loading AutoMPC...\n",
      "Finished loading AutoMPC\n",
      "Loading AutoMPC...\n",
      "Finished loading AutoMPC\n",
      "Loading AutoMPC...\n",
      "Finished loading AutoMPC\n",
      "Loading AutoMPC...\n",
      "Finished loading AutoMPC\n",
      "Loading AutoMPC...\n",
      "Finished loading AutoMPC\n",
      "Loading AutoMPC...\n",
      "Finished loading AutoMPC\n",
      "Loading AutoMPC...\n",
      "Finished loading AutoMPC\n",
      "Loading AutoMPC...\n",
      "Finished loading AutoMPC\n",
      "Loading AutoMPC...\n",
      "Finished loading AutoMPC\n",
      "Loading AutoMPC...\n",
      "Finished loading AutoMPC\n",
      "Loading AutoMPC...\n",
      "Finished loading AutoMPC\n",
      "Loading AutoMPC...\n",
      "Finished loading AutoMPC\n",
      "Loading AutoMPC...\n",
      "Finished loading AutoMPC\n",
      "Loading AutoMPC...\n",
      "Finished loading AutoMPC\n",
      "Loading AutoMPC...\n",
      "Finished loading AutoMPC\n",
      "Loading AutoMPC...\n",
      "Finished loading AutoMPC\n",
      "Loading AutoMPC...\n",
      "Finished loading AutoMPC\n",
      "Loading AutoMPC...\n",
      "Finished loading AutoMPC\n",
      "Loading AutoMPC...\n",
      "Finished loading AutoMPC\n",
      "Loading AutoMPC...\n",
      "Finished loading AutoMPC\n",
      "Loading AutoMPC...\n",
      "Finished loading AutoMPC\n",
      "Loading AutoMPC...\n",
      "Finished loading AutoMPC\n",
      "Loading AutoMPC...\n",
      "Finished loading AutoMPC\n",
      "Loading AutoMPC...\n",
      "Finished loading AutoMPC\n"
     ]
    },
    {
     "name": "stderr",
     "output_type": "stream",
     "text": [
      "Target Algorithm returned NaN or inf as quality. Algorithm run is treated as CRASHED, cost is set to 2147483647.0 for quality scenarios. (Change value through \"cost_for_crash\"-option.)\n"
     ]
    },
    {
     "name": "stdout",
     "output_type": "stream",
     "text": [
      "CfgRunner: Evaluation timed out\n",
      "Loading AutoMPC...\n",
      "Finished loading AutoMPC\n",
      "Loading AutoMPC...\n",
      "Finished loading AutoMPC\n",
      "Loading AutoMPC...\n",
      "Finished loading AutoMPC\n",
      "Loading AutoMPC...\n",
      "Finished loading AutoMPC\n",
      "Loading AutoMPC...\n",
      "Finished loading AutoMPC\n",
      "Loading AutoMPC...\n",
      "Finished loading AutoMPC\n",
      "Loading AutoMPC...\n",
      "Finished loading AutoMPC\n",
      "Loading AutoMPC...\n",
      "Finished loading AutoMPC\n",
      "Loading AutoMPC...\n",
      "Finished loading AutoMPC\n",
      "Loading AutoMPC...\n",
      "Finished loading AutoMPC\n",
      "Loading AutoMPC...\n",
      "Finished loading AutoMPC\n",
      "Loading AutoMPC...\n",
      "Finished loading AutoMPC\n",
      "Loading AutoMPC...\n",
      "Finished loading AutoMPC\n"
     ]
    },
    {
     "name": "stderr",
     "output_type": "stream",
     "text": [
      "Target Algorithm returned NaN or inf as quality. Algorithm run is treated as CRASHED, cost is set to 2147483647.0 for quality scenarios. (Change value through \"cost_for_crash\"-option.)\n"
     ]
    },
    {
     "name": "stdout",
     "output_type": "stream",
     "text": [
      "CfgRunner: Evaluation timed out\n",
      "Loading AutoMPC...\n",
      "Finished loading AutoMPC\n",
      "Loading AutoMPC...\n",
      "Finished loading AutoMPC\n",
      "Loading AutoMPC...\n",
      "Finished loading AutoMPC\n",
      "Loading AutoMPC...\n",
      "Finished loading AutoMPC\n",
      "Loading AutoMPC...\n",
      "Finished loading AutoMPC\n",
      "Loading AutoMPC...\n",
      "Finished loading AutoMPC\n",
      "Loading AutoMPC...\n",
      "Finished loading AutoMPC\n",
      "Loading AutoMPC...\n",
      "Finished loading AutoMPC\n",
      "Loading AutoMPC...\n",
      "Finished loading AutoMPC\n",
      "Loading AutoMPC...\n",
      "Finished loading AutoMPC\n",
      "Loading AutoMPC...\n",
      "Finished loading AutoMPC\n",
      "Loading AutoMPC...\n",
      "Finished loading AutoMPC\n",
      "Loading AutoMPC...\n",
      "Finished loading AutoMPC\n",
      "Loading AutoMPC...\n",
      "Finished loading AutoMPC\n",
      "Loading AutoMPC...\n",
      "Finished loading AutoMPC\n",
      "Loading AutoMPC...\n",
      "Finished loading AutoMPC\n",
      "Loading AutoMPC...\n",
      "Finished loading AutoMPC\n",
      "Loading AutoMPC...\n",
      "Finished loading AutoMPC\n",
      "Loading AutoMPC...\n",
      "Finished loading AutoMPC\n",
      "Loading AutoMPC...\n",
      "Finished loading AutoMPC\n",
      "Loading AutoMPC...\n",
      "Finished loading AutoMPC\n",
      "Loading AutoMPC...\n",
      "Finished loading AutoMPC\n",
      "Loading AutoMPC...\n",
      "Finished loading AutoMPC\n",
      "Loading AutoMPC...\n",
      "Finished loading AutoMPC\n",
      "Loading AutoMPC...\n",
      "Finished loading AutoMPC\n",
      "Loading AutoMPC...\n",
      "Finished loading AutoMPC\n",
      "Loading AutoMPC...\n",
      "Finished loading AutoMPC\n",
      "Loading AutoMPC...\n",
      "Finished loading AutoMPC\n",
      "Loading AutoMPC...\n",
      "Finished loading AutoMPC\n",
      "Loading AutoMPC...\n",
      "Finished loading AutoMPC\n",
      "Loading AutoMPC...\n",
      "Finished loading AutoMPC\n",
      "Loading AutoMPC...\n",
      "Finished loading AutoMPC\n",
      "Loading AutoMPC...\n",
      "Finished loading AutoMPC\n",
      "Loading AutoMPC...\n",
      "Finished loading AutoMPC\n",
      "Loading AutoMPC...\n",
      "Finished loading AutoMPC\n",
      "Loading AutoMPC...\n",
      "Finished loading AutoMPC\n",
      "Loading AutoMPC...\n",
      "Finished loading AutoMPC\n",
      "Loading AutoMPC...\n",
      "Finished loading AutoMPC\n",
      "Loading AutoMPC...\n",
      "Finished loading AutoMPC\n",
      "Loading AutoMPC...\n",
      "Finished loading AutoMPC\n",
      "Loading AutoMPC...\n",
      "Finished loading AutoMPC\n",
      "Loading AutoMPC...\n",
      "Finished loading AutoMPC\n",
      "Loading AutoMPC...\n",
      "Finished loading AutoMPC\n",
      "Loading AutoMPC...\n",
      "Finished loading AutoMPC\n",
      "Loading AutoMPC...\n",
      "Finished loading AutoMPC\n",
      "Loading AutoMPC...\n",
      "Finished loading AutoMPC\n",
      "Loading AutoMPC...\n",
      "Finished loading AutoMPC\n",
      "Loading AutoMPC...\n",
      "Finished loading AutoMPC\n",
      "Loading AutoMPC...\n",
      "Finished loading AutoMPC\n",
      "Loading AutoMPC...\n",
      "Finished loading AutoMPC\n",
      "Loading AutoMPC...\n",
      "Finished loading AutoMPC\n",
      "Loading AutoMPC...\n",
      "Finished loading AutoMPC\n",
      "Loading AutoMPC...\n",
      "Finished loading AutoMPC\n",
      "Loading AutoMPC...\n",
      "Finished loading AutoMPC\n",
      "Loading AutoMPC...\n",
      "Finished loading AutoMPC\n",
      "Loading AutoMPC...\n",
      "Finished loading AutoMPC\n",
      "Loading AutoMPC...\n",
      "Finished loading AutoMPC\n",
      "Loading AutoMPC...\n",
      "Finished loading AutoMPC\n",
      "Loading AutoMPC...\n",
      "Finished loading AutoMPC\n",
      "Loading AutoMPC...\n",
      "Finished loading AutoMPC\n",
      "Loading AutoMPC...\n",
      "Finished loading AutoMPC\n",
      "Loading AutoMPC...\n",
      "Finished loading AutoMPC\n",
      "Loading AutoMPC...\n",
      "Finished loading AutoMPC\n",
      "Loading AutoMPC...\n",
      "Finished loading AutoMPC\n",
      "Loading AutoMPC...\n",
      "Finished loading AutoMPC\n",
      "Loading AutoMPC...\n",
      "Finished loading AutoMPC\n",
      "Loading AutoMPC...\n",
      "Finished loading AutoMPC\n",
      "Loading AutoMPC...\n",
      "Finished loading AutoMPC\n",
      "Loading AutoMPC...\n",
      "Finished loading AutoMPC\n",
      "Loading AutoMPC...\n",
      "Finished loading AutoMPC\n",
      "Loading AutoMPC...\n",
      "Finished loading AutoMPC\n",
      "Loading AutoMPC...\n",
      "Finished loading AutoMPC\n",
      "Loading AutoMPC...\n",
      "Finished loading AutoMPC\n",
      "Loading AutoMPC...\n",
      "Finished loading AutoMPC\n",
      "Loading AutoMPC...\n",
      "Finished loading AutoMPC\n",
      "Loading AutoMPC...\n",
      "Finished loading AutoMPC\n",
      "Loading AutoMPC...\n",
      "Finished loading AutoMPC\n",
      "Loading AutoMPC...\n",
      "Finished loading AutoMPC\n",
      "Loading AutoMPC...\n",
      "Finished loading AutoMPC\n",
      "Loading AutoMPC...\n",
      "Finished loading AutoMPC\n",
      "Loading AutoMPC...\n",
      "Finished loading AutoMPC\n",
      "Loading AutoMPC...\n",
      "Finished loading AutoMPC\n",
      "Loading AutoMPC...\n",
      "Finished loading AutoMPC\n",
      "Loading AutoMPC...\n",
      "Finished loading AutoMPC\n",
      "Loading AutoMPC...\n",
      "Finished loading AutoMPC\n",
      "Loading AutoMPC...\n",
      "Finished loading AutoMPC\n",
      "Loading AutoMPC...\n",
      "Finished loading AutoMPC\n",
      "Loading AutoMPC...\n",
      "Finished loading AutoMPC\n",
      "Loading AutoMPC...\n",
      "Finished loading AutoMPC\n",
      "Loading AutoMPC...\n",
      "Finished loading AutoMPC\n",
      "Loading AutoMPC...\n",
      "Finished loading AutoMPC\n",
      "Loading AutoMPC...\n",
      "Finished loading AutoMPC\n",
      "Loading AutoMPC...\n",
      "Finished loading AutoMPC\n",
      "Loading AutoMPC...\n",
      "Finished loading AutoMPC\n",
      "Loading AutoMPC...\n",
      "Finished loading AutoMPC\n",
      "Loading AutoMPC...\n",
      "Finished loading AutoMPC\n",
      "Loading AutoMPC...\n",
      "Finished loading AutoMPC\n",
      "Loading AutoMPC...\n",
      "Finished loading AutoMPC\n",
      "Loading AutoMPC...\n",
      "Finished loading AutoMPC\n",
      "Loading AutoMPC...\n",
      "Finished loading AutoMPC\n",
      "Loading AutoMPC...\n",
      "Finished loading AutoMPC\n",
      "Loading AutoMPC...\n",
      "Finished loading AutoMPC\n",
      "Loading AutoMPC...\n",
      "Finished loading AutoMPC\n",
      "Loading AutoMPC...\n",
      "Finished loading AutoMPC\n",
      "Loading AutoMPC...\n",
      "Finished loading AutoMPC\n",
      "Loading AutoMPC...\n",
      "Finished loading AutoMPC\n",
      "Loading AutoMPC...\n",
      "Finished loading AutoMPC\n",
      "Loading AutoMPC...\n",
      "Finished loading AutoMPC\n",
      "Loading AutoMPC...\n",
      "Finished loading AutoMPC\n",
      "Loading AutoMPC...\n",
      "Finished loading AutoMPC\n",
      "Loading AutoMPC...\n",
      "Finished loading AutoMPC\n",
      "Loading AutoMPC...\n",
      "Finished loading AutoMPC\n",
      "Loading AutoMPC...\n",
      "Finished loading AutoMPC\n",
      "Loading AutoMPC...\n",
      "Finished loading AutoMPC\n",
      "Loading AutoMPC...\n",
      "Finished loading AutoMPC\n",
      "Loading AutoMPC...\n",
      "Finished loading AutoMPC\n",
      "Loading AutoMPC...\n",
      "Finished loading AutoMPC\n",
      "Loading AutoMPC...\n",
      "Finished loading AutoMPC\n",
      "Loading AutoMPC...\n",
      "Finished loading AutoMPC\n",
      "Loading AutoMPC...\n",
      "Finished loading AutoMPC\n",
      "Loading AutoMPC...\n",
      "Finished loading AutoMPC\n",
      "Loading AutoMPC...\n",
      "Finished loading AutoMPC\n",
      "Loading AutoMPC...\n",
      "Finished loading AutoMPC\n",
      "Loading AutoMPC...\n",
      "Finished loading AutoMPC\n",
      "Loading AutoMPC...\n",
      "Finished loading AutoMPC\n",
      "Loading AutoMPC...\n",
      "Finished loading AutoMPC\n",
      "Loading AutoMPC...\n",
      "Finished loading AutoMPC\n",
      "Loading AutoMPC...\n",
      "Finished loading AutoMPC\n",
      "Loading AutoMPC...\n",
      "Finished loading AutoMPC\n"
     ]
    },
    {
     "name": "stderr",
     "output_type": "stream",
     "text": [
      "Target Algorithm returned NaN or inf as quality. Algorithm run is treated as CRASHED, cost is set to 2147483647.0 for quality scenarios. (Change value through \"cost_for_crash\"-option.)\n"
     ]
    },
    {
     "name": "stdout",
     "output_type": "stream",
     "text": [
      "CfgRunner: Evaluation timed out\n",
      "Loading AutoMPC...\n",
      "Finished loading AutoMPC\n",
      "Loading AutoMPC...\n",
      "Finished loading AutoMPC\n",
      "Loading AutoMPC...\n",
      "Finished loading AutoMPC\n",
      "Loading AutoMPC...\n",
      "Finished loading AutoMPC\n",
      "Loading AutoMPC...\n",
      "Finished loading AutoMPC\n",
      "Loading AutoMPC...\n",
      "Finished loading AutoMPC\n",
      "Loading AutoMPC...\n",
      "Finished loading AutoMPC\n",
      "Loading AutoMPC...\n",
      "Finished loading AutoMPC\n",
      "Loading AutoMPC...\n",
      "Finished loading AutoMPC\n",
      "Loading AutoMPC...\n",
      "Finished loading AutoMPC\n",
      "Loading AutoMPC...\n",
      "Finished loading AutoMPC\n",
      "Loading AutoMPC...\n",
      "Finished loading AutoMPC\n",
      "Loading AutoMPC...\n",
      "Finished loading AutoMPC\n",
      "Loading AutoMPC...\n",
      "Finished loading AutoMPC\n",
      "Loading AutoMPC...\n",
      "Finished loading AutoMPC\n",
      "Loading AutoMPC...\n",
      "Finished loading AutoMPC\n",
      "Loading AutoMPC...\n",
      "Finished loading AutoMPC\n",
      "Loading AutoMPC...\n",
      "Finished loading AutoMPC\n",
      "Loading AutoMPC...\n",
      "Finished loading AutoMPC\n",
      "Loading AutoMPC...\n",
      "Finished loading AutoMPC\n",
      "Loading AutoMPC...\n",
      "Finished loading AutoMPC\n",
      "Loading AutoMPC...\n",
      "Finished loading AutoMPC\n",
      "Loading AutoMPC...\n",
      "Finished loading AutoMPC\n",
      "Loading AutoMPC...\n",
      "Finished loading AutoMPC\n",
      "Loading AutoMPC...\n",
      "Finished loading AutoMPC\n",
      "Loading AutoMPC...\n",
      "Finished loading AutoMPC\n",
      "Loading AutoMPC...\n",
      "Finished loading AutoMPC\n",
      "Loading AutoMPC...\n",
      "Finished loading AutoMPC\n",
      "Loading AutoMPC...\n",
      "Finished loading AutoMPC\n",
      "Loading AutoMPC...\n",
      "Finished loading AutoMPC\n",
      "Loading AutoMPC...\n",
      "Finished loading AutoMPC\n"
     ]
    },
    {
     "name": "stderr",
     "output_type": "stream",
     "text": [
      "Target Algorithm returned NaN or inf as quality. Algorithm run is treated as CRASHED, cost is set to 2147483647.0 for quality scenarios. (Change value through \"cost_for_crash\"-option.)\n"
     ]
    },
    {
     "name": "stdout",
     "output_type": "stream",
     "text": [
      "CfgRunner: Evaluation timed out\n",
      "Loading AutoMPC...\n",
      "Finished loading AutoMPC\n",
      "Loading AutoMPC...\n",
      "Finished loading AutoMPC\n",
      "Loading AutoMPC...\n",
      "Finished loading AutoMPC\n",
      "Loading AutoMPC...\n",
      "Finished loading AutoMPC\n",
      "Loading AutoMPC...\n",
      "Finished loading AutoMPC\n",
      "Loading AutoMPC...\n",
      "Finished loading AutoMPC\n",
      "Loading AutoMPC...\n",
      "Finished loading AutoMPC\n",
      "Loading AutoMPC...\n",
      "Finished loading AutoMPC\n",
      "Loading AutoMPC...\n",
      "Finished loading AutoMPC\n",
      "Loading AutoMPC...\n",
      "Finished loading AutoMPC\n",
      "Loading AutoMPC...\n",
      "Finished loading AutoMPC\n",
      "Loading AutoMPC...\n",
      "Finished loading AutoMPC\n",
      "Loading AutoMPC...\n",
      "Finished loading AutoMPC\n",
      "Loading AutoMPC...\n",
      "Finished loading AutoMPC\n",
      "Loading AutoMPC...\n",
      "Finished loading AutoMPC\n",
      "Loading AutoMPC...\n",
      "Finished loading AutoMPC\n",
      "Loading AutoMPC...\n",
      "Finished loading AutoMPC\n",
      "Loading AutoMPC...\n",
      "Finished loading AutoMPC\n",
      "Loading AutoMPC...\n",
      "Finished loading AutoMPC\n",
      "Loading AutoMPC...\n",
      "Finished loading AutoMPC\n",
      "Loading AutoMPC...\n",
      "Finished loading AutoMPC\n",
      "Loading AutoMPC...\n",
      "Finished loading AutoMPC\n",
      "Loading AutoMPC...\n",
      "Finished loading AutoMPC\n",
      "Loading AutoMPC...\n",
      "Finished loading AutoMPC\n"
     ]
    },
    {
     "name": "stderr",
     "output_type": "stream",
     "text": [
      "Target Algorithm returned NaN or inf as quality. Algorithm run is treated as CRASHED, cost is set to 2147483647.0 for quality scenarios. (Change value through \"cost_for_crash\"-option.)\n"
     ]
    },
    {
     "name": "stdout",
     "output_type": "stream",
     "text": [
      "CfgRunner: Evaluation timed out\n",
      "Loading AutoMPC...\n",
      "Finished loading AutoMPC\n",
      "Loading AutoMPC...\n",
      "Finished loading AutoMPC\n",
      "Loading AutoMPC...\n",
      "Finished loading AutoMPC\n",
      "Loading AutoMPC...\n",
      "Finished loading AutoMPC\n"
     ]
    },
    {
     "name": "stderr",
     "output_type": "stream",
     "text": [
      "Target Algorithm returned NaN or inf as quality. Algorithm run is treated as CRASHED, cost is set to 2147483647.0 for quality scenarios. (Change value through \"cost_for_crash\"-option.)\n"
     ]
    },
    {
     "name": "stdout",
     "output_type": "stream",
     "text": [
      "CfgRunner: Evaluation timed out\n",
      "Loading AutoMPC...\n",
      "Finished loading AutoMPC\n",
      "Loading AutoMPC...\n",
      "Finished loading AutoMPC\n",
      "Loading AutoMPC...\n",
      "Finished loading AutoMPC\n",
      "Loading AutoMPC...\n",
      "Finished loading AutoMPC\n",
      "Loading AutoMPC...\n",
      "Finished loading AutoMPC\n",
      "Loading AutoMPC...\n",
      "Finished loading AutoMPC\n",
      "Loading AutoMPC...\n",
      "Finished loading AutoMPC\n",
      "Loading AutoMPC...\n",
      "Finished loading AutoMPC\n",
      "Loading AutoMPC...\n",
      "Finished loading AutoMPC\n",
      "Loading AutoMPC...\n",
      "Finished loading AutoMPC\n",
      "Loading AutoMPC...\n",
      "Finished loading AutoMPC\n",
      "Loading AutoMPC...\n",
      "Finished loading AutoMPC\n",
      "Loading AutoMPC...\n",
      "Finished loading AutoMPC\n",
      "Loading AutoMPC...\n",
      "Finished loading AutoMPC\n",
      "Loading AutoMPC...\n",
      "Finished loading AutoMPC\n",
      "Loading AutoMPC...\n",
      "Finished loading AutoMPC\n",
      "Loading AutoMPC...\n",
      "Finished loading AutoMPC\n",
      "Loading AutoMPC...\n",
      "Finished loading AutoMPC\n",
      "Loading AutoMPC...\n",
      "Finished loading AutoMPC\n",
      "Loading AutoMPC...\n",
      "Finished loading AutoMPC\n",
      "Loading AutoMPC...\n",
      "Finished loading AutoMPC\n",
      "Loading AutoMPC...\n",
      "Finished loading AutoMPC\n",
      "Loading AutoMPC...\n",
      "Finished loading AutoMPC\n",
      "Loading AutoMPC...\n",
      "Finished loading AutoMPC\n",
      "Loading AutoMPC...\n",
      "Finished loading AutoMPC\n",
      "Loading AutoMPC...\n",
      "Finished loading AutoMPC\n",
      "Loading AutoMPC...\n",
      "Finished loading AutoMPC\n",
      "Loading AutoMPC...\n",
      "Finished loading AutoMPC\n",
      "Loading AutoMPC...\n",
      "Finished loading AutoMPC\n",
      "Loading AutoMPC...\n",
      "Finished loading AutoMPC\n",
      "Loading AutoMPC...\n",
      "Finished loading AutoMPC\n",
      "Loading AutoMPC...\n",
      "Finished loading AutoMPC\n",
      "Loading AutoMPC...\n",
      "Finished loading AutoMPC\n",
      "Loading AutoMPC...\n",
      "Finished loading AutoMPC\n",
      "Loading AutoMPC...\n",
      "Finished loading AutoMPC\n",
      "Loading AutoMPC...\n",
      "Finished loading AutoMPC\n",
      "Loading AutoMPC...\n",
      "Finished loading AutoMPC\n",
      "Loading AutoMPC...\n",
      "Finished loading AutoMPC\n",
      "Loading AutoMPC...\n",
      "Finished loading AutoMPC\n",
      "Loading AutoMPC...\n",
      "Finished loading AutoMPC\n",
      "Loading AutoMPC...\n",
      "Finished loading AutoMPC\n",
      "Loading AutoMPC...\n",
      "Finished loading AutoMPC\n",
      "Loading AutoMPC...\n",
      "Finished loading AutoMPC\n",
      "Loading AutoMPC...\n",
      "Finished loading AutoMPC\n",
      "Loading AutoMPC...\n",
      "Finished loading AutoMPC\n",
      "Loading AutoMPC...\n",
      "Finished loading AutoMPC\n",
      "Loading AutoMPC...\n",
      "Finished loading AutoMPC\n",
      "Loading AutoMPC...\n",
      "Finished loading AutoMPC\n",
      "Loading AutoMPC...\n",
      "Finished loading AutoMPC\n",
      "Loading AutoMPC...\n",
      "Finished loading AutoMPC\n",
      "Loading AutoMPC...\n",
      "Finished loading AutoMPC\n",
      "Loading AutoMPC...\n",
      "Finished loading AutoMPC\n",
      "Loading AutoMPC...\n",
      "Finished loading AutoMPC\n",
      "Loading AutoMPC...\n",
      "Finished loading AutoMPC\n",
      "Loading AutoMPC...\n",
      "Finished loading AutoMPC\n",
      "Loading AutoMPC...\n",
      "Finished loading AutoMPC\n",
      "Loading AutoMPC...\n",
      "Finished loading AutoMPC\n",
      "Loading AutoMPC...\n",
      "Finished loading AutoMPC\n",
      "Loading AutoMPC...\n",
      "Finished loading AutoMPC\n",
      "Loading AutoMPC...\n",
      "Finished loading AutoMPC\n",
      "Loading AutoMPC...\n",
      "Finished loading AutoMPC\n",
      "Loading AutoMPC...\n",
      "Finished loading AutoMPC\n",
      "Loading AutoMPC...\n",
      "Finished loading AutoMPC\n",
      "Loading AutoMPC...\n",
      "Finished loading AutoMPC\n",
      "Loading AutoMPC...\n",
      "Finished loading AutoMPC\n",
      "Loading AutoMPC...\n",
      "Finished loading AutoMPC\n",
      "Loading AutoMPC...\n",
      "Finished loading AutoMPC\n",
      "Loading AutoMPC...\n",
      "Finished loading AutoMPC\n",
      "Loading AutoMPC...\n",
      "Finished loading AutoMPC\n",
      "Loading AutoMPC...\n",
      "Finished loading AutoMPC\n",
      "Loading AutoMPC...\n",
      "Finished loading AutoMPC\n",
      "Loading AutoMPC...\n",
      "Finished loading AutoMPC\n",
      "Loading AutoMPC...\n",
      "Finished loading AutoMPC\n",
      "Loading AutoMPC...\n",
      "Finished loading AutoMPC\n",
      "Loading AutoMPC...\n",
      "Finished loading AutoMPC\n",
      "Loading AutoMPC...\n",
      "Finished loading AutoMPC\n",
      "Loading AutoMPC...\n",
      "Finished loading AutoMPC\n",
      "Loading AutoMPC...\n",
      "Finished loading AutoMPC\n",
      "Loading AutoMPC...\n",
      "Finished loading AutoMPC\n",
      "Loading AutoMPC...\n",
      "Finished loading AutoMPC\n",
      "Loading AutoMPC...\n",
      "Finished loading AutoMPC\n",
      "Loading AutoMPC...\n",
      "Finished loading AutoMPC\n",
      "Loading AutoMPC...\n",
      "Finished loading AutoMPC\n",
      "Loading AutoMPC...\n",
      "Finished loading AutoMPC\n",
      "Loading AutoMPC...\n",
      "Finished loading AutoMPC\n",
      "Loading AutoMPC...\n",
      "Finished loading AutoMPC\n",
      "Loading AutoMPC...\n",
      "Finished loading AutoMPC\n",
      "Loading AutoMPC...\n",
      "Finished loading AutoMPC\n",
      "Loading AutoMPC...\n",
      "Finished loading AutoMPC\n",
      "Loading AutoMPC...\n",
      "Finished loading AutoMPC\n",
      "Loading AutoMPC...\n",
      "Finished loading AutoMPC\n",
      "Loading AutoMPC...\n",
      "Finished loading AutoMPC\n",
      "self.net.parameters().__next__().device=device(type='cuda', index=0)\n",
      "100%|██████████| 200/200 [00:02<00:00, 70.22it/s] \n",
      "Selected model: MLP\n",
      "Selected configuration Configuration(values={\n",
      "  'MLP:batchnorm': False,\n",
      "  'MLP:hidden_size_1': 212,\n",
      "  'MLP:hidden_size_2': 134,\n",
      "  'MLP:hidden_size_3': 92,\n",
      "  'MLP:lr': 0.0002933580828546939,\n",
      "  'MLP:n_hidden_layers': '3',\n",
      "  'MLP:nonlintype': 'relu',\n",
      "  'model': 'MLP',\n",
      "})\n",
      "\n",
      "Final cross-validated RMSE score: 0.6027502162512217\n"
     ]
    }
   ],
   "source": [
    "# original HC\n",
    "import os\n",
    "from autompc.tuning import ModelTuner\n",
    "\n",
    "tuner = ModelTuner(system,trajs,verbose=1,multi_fidelity=False, meta_learning=False)\n",
    "print(\"Selecting from models\",\",\".join(model.name for model in tuner.model.models))\n",
    "tuned_model,tune_result = tuner.run(n_iters=500, eval_timeout=600)\n",
    "\n",
    "print(\"Selected model:\",tuned_model.name)\n",
    "print(\"Selected configuration\", tune_result.inc_cfg)\n",
    "print(\"Final cross-validated RMSE score:\",tune_result.inc_costs[-1])\n",
    "\n",
    "# Save the configuration\n",
    "# PATH = '/home/baoyu/baoyul2/autompc/autompc/model_metalearning/meta_cfg'\n",
    "# data_name = name + '.pkl'\n",
    "# output_file_name = os.path.join(PATH, data_name)\n",
    "# print(\"Dumping to \", output_file_name)\n",
    "# with open(output_file_name, 'wb') as fh:\n",
    "#     pickle.dump(tune_result.inc_cfg, fh)"
   ]
  },
  {
   "cell_type": "code",
   "execution_count": 5,
   "metadata": {},
   "outputs": [
    {
     "data": {
      "image/png": "[encoded data removed]",
      "text/plain": [
       "<Figure size 640x480 with 1 Axes>"
      ]
     },
     "metadata": {},
     "output_type": "display_data"
    }
   ],
   "source": [
    "from autompc.graphs import plot_tuning_curve,plot_tuning_correlations\n",
    "import matplotlib.pyplot as plt\n",
    "\n",
    "plt.plot(tune_result.inc_costs)\n",
    "plt.title(name + '_500')\n",
    "plt.ylabel('score')\n",
    "plt.xlabel('iteration')\n",
    "plt.show()"
   ]
  },
  {
   "cell_type": "code",
   "execution_count": 4,
   "metadata": {},
   "outputs": [
    {
     "name": "stderr",
     "output_type": "stream",
     "text": [
      "Adding unsupported scenario options: {'save_results_instantly': True}\n"
     ]
    },
    {
     "name": "stdout",
     "output_type": "stream",
     "text": [
      "use_cuda=True\n",
      "torch.cuda.is_available()=True\n",
      "self._device=device(type='cuda')\n",
      "Cuda is used for GPytorch\n",
      "Foo\n",
      "Selecting from models MLP,ARX,Koopman,SINDy,ApproximateGPModel\n",
      "Loading AutoMPC...\n",
      "Finished loading AutoMPC\n"
     ]
    },
    {
     "name": "stderr",
     "output_type": "stream",
     "text": [
      "Target Algorithm returned NaN or inf as quality. Algorithm run is treated as CRASHED, cost is set to 2147483647.0 for quality scenarios. (Change value through \"cost_for_crash\"-option.)\n"
     ]
    },
    {
     "name": "stdout",
     "output_type": "stream",
     "text": [
      "CfgRunner: Evaluation timed out\n",
      "Loading AutoMPC...\n",
      "Finished loading AutoMPC\n",
      "Selected model: Koopman\n",
      "Final cross-validated RMSE score: 4.521687245223104\n"
     ]
    }
   ],
   "source": [
    "# Time-out\n",
    "from autompc.tuning import ModelTuner\n",
    "\n",
    "tuner = ModelTuner(system,trajs,verbose=1,multi_fidelity=False)\n",
    "print(\"Selecting from models\",\",\".join(model.name for model in tuner.model.models))\n",
    "tuned_model,tune_result = tuner.run(n_iters=2, eval_timeout=60)\n",
    "\n",
    "print(\"Selected model:\",tuned_model.name)\n",
    "print(\"Final cross-validated RMSE score:\",tune_result.inc_costs[-1])"
   ]
  },
  {
   "cell_type": "code",
   "execution_count": 18,
   "metadata": {},
   "outputs": [
    {
     "name": "stdout",
     "output_type": "stream",
     "text": [
      "Configuration(values={\n",
      "  'ARX:history': 10,\n",
      "  'model': 'ARX',\n",
      "})\n",
      "\n"
     ]
    }
   ],
   "source": [
    "print(tune_result.inc_cfg)"
   ]
  },
  {
   "cell_type": "code",
   "execution_count": 19,
   "metadata": {},
   "outputs": [
    {
     "data": {
      "image/png": "[encoded data removed]",
      "text/plain": [
       "<Figure size 640x480 with 1 Axes>"
      ]
     },
     "metadata": {},
     "output_type": "display_data"
    }
   ],
   "source": [
    "%matplotlib inline\n",
    "\n",
    "from autompc.graphs import plot_tuning_curve,plot_tuning_correlations\n",
    "import matplotlib.pyplot as plt\n",
    "\n",
    "plot_tuning_curve(tune_result)\n",
    "plt.title(\"Cart-Pole Tuning Curve\")\n",
    "plt.show()"
   ]
  },
  {
   "cell_type": "code",
   "execution_count": 10,
   "metadata": {},
   "outputs": [
    {
     "name": "stdout",
     "output_type": "stream",
     "text": [
      "Configuration(values={\n",
      "  'MLP:batchnorm': False,\n",
      "  'MLP:hidden_size_1': 128,\n",
      "  'MLP:hidden_size_2': 128,\n",
      "  'MLP:lr': 0.001,\n",
      "  'MLP:n_hidden_layers': '2',\n",
      "  'MLP:nonlintype': 'relu',\n",
      "  'model': 'MLP',\n",
      "})\n",
      "\n"
     ]
    }
   ],
   "source": [
    "config_str = str(tune_result.inc_cfg)\n",
    "print(config_str)"
   ]
  },
  {
   "cell_type": "code",
   "execution_count": 42,
   "metadata": {},
   "outputs": [],
   "source": [
    "info = {\n",
    "            'env': name,\n",
    "            'final_score': tune_result.inc_costs[-1],\n",
    "            'final_config': dict(tune_result.inc_cfg),\n",
    "            'costs': tune_result.costs\n",
    "        }"
   ]
  },
  {
   "cell_type": "code",
   "execution_count": 39,
   "metadata": {},
   "outputs": [],
   "source": [
    "info = {\n",
    "            'env': name,\n",
    "            'final_score': 3,\n",
    "            'final_config': dict(tune_result.inc_cfg),\n",
    "            'costs': tune_result.costs\n",
    "        }"
   ]
  },
  {
   "cell_type": "code",
   "execution_count": 43,
   "metadata": {},
   "outputs": [
    {
     "ename": "",
     "evalue": "",
     "output_type": "error",
     "traceback": [
      "The Kernel crashed while executing code in the the current cell or a previous cell. Please review the code in the cell(s) to identify a possible cause of the failure. Click <a href='https://aka.ms/vscodeJupyterKernelCrash'>here</a> for more info. View Jupyter <a href='command:jupyter.viewOutput'>log</a> for further details."
     ]
    }
   ],
   "source": [
    "import json\n",
    "from ConfigSpace.read_and_write import json as config_json\n",
    "\n",
    "with open('meta.json', 'w') as outfile:\n",
    "    outfile.write(json.dumps(info, indent=2))"
   ]
  },
  {
   "cell_type": "code",
   "execution_count": 13,
   "metadata": {},
   "outputs": [
    {
     "ename": "TypeError",
     "evalue": "'module' object is not callable",
     "output_type": "error",
     "traceback": [
      "\u001b[0;31m---------------------------------------------------------------------------\u001b[0m",
      "\u001b[0;31mTypeError\u001b[0m                                 Traceback (most recent call last)",
      "\u001b[1;32m/home/baoyu/baoyul2/autompc/examples/5_Model_Tuning copy.ipynb Cell 11\u001b[0m in \u001b[0;36m<cell line: 2>\u001b[0;34m()\u001b[0m\n\u001b[1;32m      <a href='vscode-notebook-cell:/home/baoyu/baoyul2/autompc/examples/5_Model_Tuning%20copy.ipynb#X43sZmlsZQ%3D%3D?line=0'>1</a>\u001b[0m \u001b[39mimport\u001b[39;00m \u001b[39mConfigSpace\u001b[39;00m\n\u001b[0;32m----> <a href='vscode-notebook-cell:/home/baoyu/baoyul2/autompc/examples/5_Model_Tuning%20copy.ipynb#X43sZmlsZQ%3D%3D?line=1'>2</a>\u001b[0m config \u001b[39m=\u001b[39m ConfigSpace(config_str)\n",
      "\u001b[0;31mTypeError\u001b[0m: 'module' object is not callable"
     ]
    }
   ],
   "source": [
    "import ConfigSpace\n",
    "config = ConfigSpace(config_str)"
   ]
  },
  {
   "cell_type": "markdown",
   "metadata": {},
   "source": [
    "You can customize the behavior of tuning by specifying which evaluation strategy we wish to use.  Possible options include splitting method (holdout vs cross-validation), which horizon to measure predictions upon, and what scoring metric to use.  By default, ModelTuner uses 3-fold cross-validation and one-step RMSE.\n",
    "\n",
    "Here's an example of customizing the evaluator to use with 10\\% holdout and the RMSE metric with a 5-step prediction horizon."
   ]
  },
  {
   "cell_type": "code",
   "execution_count": null,
   "metadata": {},
   "outputs": [],
   "source": [
    "tuner = ModelTuner(system,trajs,eval_holdout=0.1,eval_folds=1,eval_metric='rmse',eval_horizon=5)"
   ]
  },
  {
   "cell_type": "markdown",
   "metadata": {},
   "source": [
    "To customize behavior even further, we can use a `ModelEvaluator` class, which has various subclasses.  As an example, the HoldoutModelEvaluator is specified here.  The `evaluator` keyword to ModelTuner will specify an evaluator that overrides the default keyword arguments."
   ]
  },
  {
   "cell_type": "code",
   "execution_count": null,
   "metadata": {},
   "outputs": [],
   "source": [
    "from autompc.tuning import HoldoutModelEvaluator\n",
    "\n",
    "evaluator = HoldoutModelEvaluator(trajs, metric=\"rmse\", holdout_prop=0.1,\n",
    "                                  rng=np.random.default_rng(100), horizon=20)\n",
    "tuner = ModelTuner(system,trajs,evaluator=evaluator)"
   ]
  },
  {
   "cell_type": "markdown",
   "metadata": {},
   "source": [
    "## Specifying the Model Class\n",
    "\n",
    "In some cases we know which model class we wish to tune, and ModelTuner can also accept a specified class.  For example, we can consider the MLP model. Here we'll perform a much longer tuning run, so let this run for a few hours...\n",
    "\n",
    "**Alternatively, you can save/load the tuning data from a prior run by setting `dump=False` in the following cell, and skipping the tuning altogether.**"
   ]
  },
  {
   "cell_type": "code",
   "execution_count": 4,
   "metadata": {
    "scrolled": true
   },
   "outputs": [
    {
     "name": "stdout",
     "output_type": "stream",
     "text": [
      "Evaluating Cfg:\n",
      "Configuration(values={\n",
      "  'batchnorm': False,\n",
      "  'hidden_size_1': 128,\n",
      "  'hidden_size_2': 128,\n",
      "  'lr': 0.001,\n",
      "  'n_hidden_layers': '2',\n",
      "  'nonlintype': 'relu',\n",
      "})\n",
      "\n",
      "Seed 0 budget 0.0\n",
      "100%|██████████| 200/200 [00:45<00:00,  4.38it/s]\n",
      "100%|██████████| 200/200 [00:45<00:00,  4.44it/s]\n",
      "100%|██████████| 200/200 [00:44<00:00,  4.52it/s]"
     ]
    },
    {
     "name": "stderr",
     "output_type": "stream",
     "text": [
      "Target Algorithm returned NaN or inf as quality. Algorithm run is treated as CRASHED, cost is set to 2147483647.0 for quality scenarios. (Change value through \"cost_for_crash\"-option.)\n"
     ]
    },
    {
     "name": "stdout",
     "output_type": "stream",
     "text": [
      "\n",
      "Model Score  nan\n"
     ]
    },
    {
     "ename": "FirstRunCrashedException",
     "evalue": "First run crashed, abort. Please check your setup -- we assume that your default configuration does not crashes. (To deactivate this exception, use the SMAC scenario option 'abort_on_first_run_crash'). Additional run info: {}",
     "output_type": "error",
     "traceback": [
      "\u001b[0;31m---------------------------------------------------------------------------\u001b[0m",
      "\u001b[0;31mFirstRunCrashedException\u001b[0m                  Traceback (most recent call last)",
      "\u001b[1;32m/home/baoyu/baoyul2/autompc/examples/5_Model_Tuning copy.ipynb Cell 12\u001b[0m in \u001b[0;36m<cell line: 4>\u001b[0;34m()\u001b[0m\n\u001b[1;32m      <a href='vscode-notebook-cell:/home/baoyu/baoyul2/autompc/examples/5_Model_Tuning%20copy.ipynb#X14sZmlsZQ%3D%3D?line=0'>1</a>\u001b[0m \u001b[39mfrom\u001b[39;00m \u001b[39mautompc\u001b[39;00m\u001b[39m.\u001b[39;00m\u001b[39msysid\u001b[39;00m \u001b[39mimport\u001b[39;00m MLP\n\u001b[1;32m      <a href='vscode-notebook-cell:/home/baoyu/baoyul2/autompc/examples/5_Model_Tuning%20copy.ipynb#X14sZmlsZQ%3D%3D?line=2'>3</a>\u001b[0m tuner \u001b[39m=\u001b[39m ModelTuner(system,trajs,MLP(system),verbose\u001b[39m=\u001b[39m\u001b[39mTrue\u001b[39;00m)\n\u001b[0;32m----> <a href='vscode-notebook-cell:/home/baoyu/baoyul2/autompc/examples/5_Model_Tuning%20copy.ipynb#X14sZmlsZQ%3D%3D?line=3'>4</a>\u001b[0m tuned_model, tune_result \u001b[39m=\u001b[39m tuner\u001b[39m.\u001b[39;49mrun(n_iters\u001b[39m=\u001b[39;49m\u001b[39m200\u001b[39;49m,rng\u001b[39m=\u001b[39;49mnp\u001b[39m.\u001b[39;49mrandom\u001b[39m.\u001b[39;49mdefault_rng(\u001b[39m200\u001b[39;49m))\n",
      "File \u001b[0;32m~/baoyul2/autompc/autompc/tuning/model_tuner.py:187\u001b[0m, in \u001b[0;36mModelTuner.run\u001b[0;34m(self, rng, n_iters, min_train_time, max_train_time, retrain_full)\u001b[0m\n\u001b[1;32m    182\u001b[0m     \u001b[39m#smac = SMAC4HPO(scenario=scenario, rng=smac_rng,\u001b[39;00m\n\u001b[1;32m    183\u001b[0m     \u001b[39m#        tae_runner=self._evaluate)\u001b[39;00m\n\u001b[1;32m    184\u001b[0m     smac \u001b[39m=\u001b[39m SMAC4AC(scenario\u001b[39m=\u001b[39mscenario, rng\u001b[39m=\u001b[39msmac_rng,\n\u001b[1;32m    185\u001b[0m             tae_runner\u001b[39m=\u001b[39m\u001b[39mself\u001b[39m\u001b[39m.\u001b[39m_evaluate)\n\u001b[0;32m--> 187\u001b[0m incumbent \u001b[39m=\u001b[39m smac\u001b[39m.\u001b[39;49moptimize()\n\u001b[1;32m    189\u001b[0m inc_cost \u001b[39m=\u001b[39m \u001b[39mfloat\u001b[39m(\u001b[39m\"\u001b[39m\u001b[39minf\u001b[39m\u001b[39m\"\u001b[39m)\n\u001b[1;32m    190\u001b[0m inc_costs \u001b[39m=\u001b[39m []\n",
      "File \u001b[0;32m~/anaconda3/envs/autompc/lib/python3.9/site-packages/smac/facade/smac_ac_facade.py:723\u001b[0m, in \u001b[0;36mSMAC4AC.optimize\u001b[0;34m(self)\u001b[0m\n\u001b[1;32m    721\u001b[0m incumbent \u001b[39m=\u001b[39m \u001b[39mNone\u001b[39;00m\n\u001b[1;32m    722\u001b[0m \u001b[39mtry\u001b[39;00m:\n\u001b[0;32m--> 723\u001b[0m     incumbent \u001b[39m=\u001b[39m \u001b[39mself\u001b[39;49m\u001b[39m.\u001b[39;49msolver\u001b[39m.\u001b[39;49mrun()\n\u001b[1;32m    724\u001b[0m \u001b[39mfinally\u001b[39;00m:\n\u001b[1;32m    725\u001b[0m     \u001b[39mself\u001b[39m\u001b[39m.\u001b[39msolver\u001b[39m.\u001b[39msave()\n",
      "File \u001b[0;32m~/anaconda3/envs/autompc/lib/python3.9/site-packages/smac/optimizer/smbo.py:307\u001b[0m, in \u001b[0;36mSMBO.run\u001b[0;34m(self)\u001b[0m\n\u001b[1;32m    303\u001b[0m \u001b[39m# Check if there is any result, or else continue\u001b[39;00m\n\u001b[1;32m    304\u001b[0m \u001b[39mfor\u001b[39;00m run_info, result \u001b[39min\u001b[39;00m \u001b[39mself\u001b[39m\u001b[39m.\u001b[39mtae_runner\u001b[39m.\u001b[39mget_finished_runs():\n\u001b[1;32m    305\u001b[0m     \u001b[39m# Add the results of the run to the run history\u001b[39;00m\n\u001b[1;32m    306\u001b[0m     \u001b[39m# Additionally check for new incumbent\u001b[39;00m\n\u001b[0;32m--> 307\u001b[0m     \u001b[39mself\u001b[39;49m\u001b[39m.\u001b[39;49m_incorporate_run_results(run_info, result, time_left)\n\u001b[1;32m    309\u001b[0m \u001b[39mif\u001b[39;00m \u001b[39mself\u001b[39m\u001b[39m.\u001b[39mscenario\u001b[39m.\u001b[39mshared_model:  \u001b[39m# type: ignore[attr-defined] # noqa F821\u001b[39;00m\n\u001b[1;32m    310\u001b[0m     \u001b[39massert\u001b[39;00m \u001b[39mself\u001b[39m\u001b[39m.\u001b[39mscenario\u001b[39m.\u001b[39moutput_dir_for_this_run \u001b[39mis\u001b[39;00m \u001b[39mnot\u001b[39;00m \u001b[39mNone\u001b[39;00m  \u001b[39m# please mypy\u001b[39;00m\n",
      "File \u001b[0;32m~/anaconda3/envs/autompc/lib/python3.9/site-packages/smac/optimizer/smbo.py:510\u001b[0m, in \u001b[0;36mSMBO._incorporate_run_results\u001b[0;34m(self, run_info, result, time_left)\u001b[0m\n\u001b[1;32m    508\u001b[0m \u001b[39mif\u001b[39;00m \u001b[39mself\u001b[39m\u001b[39m.\u001b[39mscenario\u001b[39m.\u001b[39mabort_on_first_run_crash:  \u001b[39m# type: ignore[attr-defined] # noqa F821\u001b[39;00m\n\u001b[1;32m    509\u001b[0m     \u001b[39mif\u001b[39;00m \u001b[39mself\u001b[39m\u001b[39m.\u001b[39mstats\u001b[39m.\u001b[39mfinished_ta_runs \u001b[39m==\u001b[39m \u001b[39m1\u001b[39m \u001b[39mand\u001b[39;00m result\u001b[39m.\u001b[39mstatus \u001b[39m==\u001b[39m StatusType\u001b[39m.\u001b[39mCRASHED:\n\u001b[0;32m--> 510\u001b[0m         \u001b[39mraise\u001b[39;00m FirstRunCrashedException(\n\u001b[1;32m    511\u001b[0m             \u001b[39m\"\u001b[39m\u001b[39mFirst run crashed, abort. Please check your setup -- we assume that your default \u001b[39m\u001b[39m\"\u001b[39m\n\u001b[1;32m    512\u001b[0m             \u001b[39m\"\u001b[39m\u001b[39mconfiguration does not crashes. (To deactivate this exception, use the SMAC scenario option \u001b[39m\u001b[39m\"\u001b[39m\n\u001b[1;32m    513\u001b[0m             \u001b[39m\"\u001b[39m\u001b[39m'\u001b[39m\u001b[39mabort_on_first_run_crash\u001b[39m\u001b[39m'\u001b[39m\u001b[39m). Additional run info: \u001b[39m\u001b[39m%s\u001b[39;00m\u001b[39m\"\u001b[39m \u001b[39m%\u001b[39m result\u001b[39m.\u001b[39madditional_info\n\u001b[1;32m    514\u001b[0m         )\n\u001b[1;32m    516\u001b[0m \u001b[39m# Update the intensifier with the result of the runs\u001b[39;00m\n\u001b[1;32m    517\u001b[0m \u001b[39mself\u001b[39m\u001b[39m.\u001b[39mincumbent, inc_perf \u001b[39m=\u001b[39m \u001b[39mself\u001b[39m\u001b[39m.\u001b[39mintensifier\u001b[39m.\u001b[39mprocess_results(\n\u001b[1;32m    518\u001b[0m     run_info\u001b[39m=\u001b[39mrun_info,\n\u001b[1;32m    519\u001b[0m     incumbent\u001b[39m=\u001b[39m\u001b[39mself\u001b[39m\u001b[39m.\u001b[39mincumbent,\n\u001b[0;32m   (...)\u001b[0m\n\u001b[1;32m    522\u001b[0m     result\u001b[39m=\u001b[39mresult,\n\u001b[1;32m    523\u001b[0m )\n",
      "\u001b[0;31mFirstRunCrashedException\u001b[0m: First run crashed, abort. Please check your setup -- we assume that your default configuration does not crashes. (To deactivate this exception, use the SMAC scenario option 'abort_on_first_run_crash'). Additional run info: {}"
     ]
    }
   ],
   "source": [
    "from autompc.sysid import MLP\n",
    "\n",
    "tuner = ModelTuner(system,trajs,MLP(system),verbose=True)\n",
    "tuned_model, tune_result = tuner.run(n_iters=200,rng=np.random.default_rng(200))"
   ]
  },
  {
   "cell_type": "code",
   "execution_count": 2,
   "metadata": {},
   "outputs": [],
   "source": [
    "import pickle\n",
    "\n",
    "#To dump tuning result, turn to True.  To load it, turn to False\n",
    "DUMP = False\n",
    "if DUMP:\n",
    "    with open('tuned_mlp_model.pkl','wb') as f:\n",
    "        pickle.dump(tuned_model,f)\n",
    "    with open('mlp_model_tuning_result.pkl','wb') as f:\n",
    "        pickle.dump(tune_result,f)\n",
    "else:\n",
    "    with open('tuned_mlp_model.pkl','rb') as f:\n",
    "        tuned_model = pickle.load(f)\n",
    "    with open('mlp_model_tuning_result.pkl','rb') as f:\n",
    "        tune_result = pickle.load(f)"
   ]
  },
  {
   "cell_type": "markdown",
   "metadata": {},
   "source": [
    "Let's check what configuration was selected by the tuner."
   ]
  },
  {
   "cell_type": "code",
   "execution_count": 3,
   "metadata": {},
   "outputs": [
    {
     "data": {
      "text/plain": [
       "Configuration(values={\n",
       "  'batchnorm': False,\n",
       "  'hidden_size_1': 220,\n",
       "  'hidden_size_2': 155,\n",
       "  'lr': 0.000606990613048173,\n",
       "  'n_hidden_layers': '2',\n",
       "  'nonlintype': 'tanh',\n",
       "})"
      ]
     },
     "execution_count": 3,
     "metadata": {},
     "output_type": "execute_result"
    }
   ],
   "source": [
    "tune_result.inc_cfg"
   ]
  },
  {
   "cell_type": "markdown",
   "metadata": {},
   "source": [
    "We see that the tuner selected a 2-layer MLP with `tanh` activations. "
   ]
  },
  {
   "cell_type": "markdown",
   "metadata": {},
   "source": [
    "Before we move on, let's note that another option is to specify a set of model classes to use. To do so we can use the AutoSelectModel class as the model as follows:"
   ]
  },
  {
   "cell_type": "code",
   "execution_count": null,
   "metadata": {},
   "outputs": [],
   "source": [
    "from autompc.sysid import SINDy\n",
    "from autompc.sysid import AutoSelectModel\n",
    "\n",
    "selector = AutoSelectModel(system,[MLP(system),SINDy(system)])\n",
    "tuner = ModelTuner(system,trajs,model=selector)"
   ]
  },
  {
   "cell_type": "markdown",
   "metadata": {},
   "source": [
    "## Visualizing the Results\n",
    "\n",
    "We can now visualize the tuning results.  First, we will plot the tuning curve.  This shows the holdout set performance of the best-known model at different points over the course of the tuning process."
   ]
  },
  {
   "cell_type": "code",
   "execution_count": 4,
   "metadata": {},
   "outputs": [
    {
     "data": {
      "image/png": "[encoded data removed]",
      "text/plain": [
       "<Figure size 432x288 with 1 Axes>"
      ]
     },
     "metadata": {
      "needs_background": "light"
     },
     "output_type": "display_data"
    }
   ],
   "source": [
    "%matplotlib inline\n",
    "\n",
    "from autompc.graphs import plot_tuning_curve,plot_tuning_correlations\n",
    "import matplotlib.pyplot as plt\n",
    "\n",
    "plot_tuning_curve(tune_result)\n",
    "plt.title(\"Cart-Pole Tuning Curve\")\n",
    "plt.show()"
   ]
  },
  {
   "cell_type": "markdown",
   "metadata": {},
   "source": [
    "To further study the tuning, we can examine how the cost correlates with various hyperparameter settings using the `plot_tuning_correlations` function."
   ]
  },
  {
   "cell_type": "code",
   "execution_count": 7,
   "metadata": {},
   "outputs": [
    {
     "data": {
      "text/plain": [
       "[]"
      ]
     },
     "execution_count": 7,
     "metadata": {},
     "output_type": "execute_result"
    },
    {
     "data": {
      "image/png": "[encoded data removed]",
      "text/plain": [
       "<Figure size 1080x288 with 3 Axes>"
      ]
     },
     "metadata": {
      "needs_background": "light"
     },
     "output_type": "display_data"
    }
   ],
   "source": [
    "fig,(ax1,ax2,ax3)=plt.subplots(1,3,figsize=(15,4))\n",
    "plot_tuning_correlations(tune_result,'lr',ax=ax1)\n",
    "plot_tuning_correlations(tune_result,'n_hidden_layers',ax=ax2)\n",
    "plot_tuning_correlations(tune_result,'nonlintype',ax=ax3)\n",
    "ax1.set_ylim(0,1.5)\n",
    "ax2.set_ylim(0,1.5)\n",
    "ax3.set_ylim(0,3.0)\n",
    "ax3.set_title('nonlintype')\n",
    "plt.plot()"
   ]
  },
  {
   "cell_type": "markdown",
   "metadata": {},
   "source": [
    "Next, we can compare the performance of our tuned model to the default MLP configuration.  We will generate a fresh dataset for testing and compare over multiple prediction horizons.  For more details on how to do this comparison, see [2. Models]."
   ]
  },
  {
   "cell_type": "code",
   "execution_count": 20,
   "metadata": {},
   "outputs": [
    {
     "name": "stdout",
     "output_type": "stream",
     "text": [
      "100%|██████████| 50/50 [00:21<00:00,  2.30it/s]\n"
     ]
    },
    {
     "data": {
      "image/png": "[encoded data removed]",
      "text/plain": [
       "<Figure size 432x288 with 1 Axes>"
      ]
     },
     "metadata": {
      "needs_background": "light"
     },
     "output_type": "display_data"
    }
   ],
   "source": [
    "untuned_model = MLP(system)\n",
    "untuned_model.train(trajs)\n",
    "\n",
    "testing_set = benchmark.gen_trajs(seed=101, n_trajs=100, traj_len=200)\n",
    "\n",
    "from autompc.graphs.kstep_graph import KstepPredAccGraph\n",
    "\n",
    "graph = KstepPredAccGraph(system, testing_set, kmax=20, metric=\"rmse\")\n",
    "graph.add_model(untuned_model, \"Untuned MLP\")\n",
    "graph.add_model(tuned_model, \"Tuned Model (MLP)\")\n",
    "\n",
    "fig = plt.figure()\n",
    "ax = fig.gca()\n",
    "graph(fig, ax)\n",
    "ax.set_title(\"Model prediction accuracy on test set\")\n",
    "plt.show()"
   ]
  },
  {
   "cell_type": "markdown",
   "metadata": {},
   "source": [
    "As we can see, the tuned model outperforms the untuned model on the unseen dataset at all prediction horizons."
   ]
  },
  {
   "cell_type": "code",
   "execution_count": 22,
   "metadata": {},
   "outputs": [
    {
     "data": {
      "image/png": "[encoded data removed]",
      "text/plain": [
       "<Figure size 432x288 with 1 Axes>"
      ]
     },
     "metadata": {
      "needs_background": "light"
     },
     "output_type": "display_data"
    }
   ],
   "source": [
    "graph = KstepPredAccGraph(system, trajs, kmax=20, metric=\"rmse\")\n",
    "graph.add_model(untuned_model, \"Untuned MLP\")\n",
    "graph.add_model(tuned_model, \"Tuned Model (MLP)\")\n",
    "\n",
    "fig = plt.figure()\n",
    "ax = fig.gca()\n",
    "graph(fig, ax)\n",
    "ax.set_title(\"Model prediction accuracy on training set\")\n",
    "plt.show()"
   ]
  },
  {
   "cell_type": "code",
   "execution_count": null,
   "metadata": {},
   "outputs": [],
   "source": []
  }
 ],
 "metadata": {
  "kernelspec": {
   "display_name": "Python 3.9.12 ('autompc')",
   "language": "python",
   "name": "python3"
  },
  "language_info": {
   "codemirror_mode": {
    "name": "ipython",
    "version": 3
   },
   "file_extension": ".py",
   "mimetype": "text/x-python",
   "name": "python",
   "nbconvert_exporter": "python",
   "pygments_lexer": "ipython3",
   "version": "3.9.12"
  },
  "latex_envs": {
   "LaTeX_envs_menu_present": true,
   "autoclose": false,
   "autocomplete": false,
   "bibliofile": "biblio.bib",
   "cite_by": "apalike",
   "current_citInitial": 1,
   "eqLabelWithNumbers": true,
   "eqNumInitial": 1,
   "hotkeys": {
    "equation": "Ctrl-E",
    "itemize": "Ctrl-I"
   },
   "labels_anchors": false,
   "latex_user_defs": false,
   "report_style_numbering": false,
   "user_envs_cfg": false
  },
  "toc": {
   "base_numbering": 1,
   "nav_menu": {},
   "number_sections": true,
   "sideBar": true,
   "skip_h1_title": false,
   "title_cell": "Table of Contents",
   "title_sidebar": "Contents",
   "toc_cell": false,
   "toc_position": {},
   "toc_section_display": true,
   "toc_window_display": false
  },
  "vscode": {
   "interpreter": {
    "hash": "dccb8be754ace2efbdb675daab337b2fe39a60d9ccaabcfdb788fd40f2e3cae4"
   }
  }
 },
 "nbformat": 4,
 "nbformat_minor": 4
}
